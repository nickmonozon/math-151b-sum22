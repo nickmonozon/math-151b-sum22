{
  "nbformat": 4,
  "nbformat_minor": 0,
  "metadata": {
    "colab": {
      "provenance": [],
      "collapsed_sections": []
    },
    "kernelspec": {
      "name": "python3",
      "display_name": "Python 3"
    },
    "language_info": {
      "name": "python"
    }
  },
  "cells": [
    {
      "cell_type": "markdown",
      "source": [
        "### Broyden's Method\n",
        "This code implements Quasi-Newton Broyden's Method to approximate the solution of the nonlinear system $\\mathbf{F}(\\mathbf{x}) = \\mathbf{0}$ where $\\mathbf{x} = (x_1, x_2)^{\\top}$. We must choose an initial guess/approximation $\\mathbf{x}^{(0)}$ and calculate the Jacobian $\\mathbf{J}(\\mathbf{x}^{(0)})$ for the first step of the method. For subsequent iterations, we will perform rank-one updates to the Jacobian using the Sherman-Morrison Formula.\n",
        "\n",
        "This algorithm is implemented according to the pseudocode given in Algorithm 10.2 of *Numerical Analysis* (10th Edition) by Burden and Faires. The code below provides the solution to 11.3.5(b) of the same book."
      ],
      "metadata": {
        "id": "eOkcizStgfUF"
      }
    },
    {
      "cell_type": "code",
      "execution_count": 163,
      "metadata": {
        "id": "tjeTohLdf850"
      },
      "outputs": [],
      "source": [
        "# Imports\n",
        "import numpy as np\n",
        "from numpy.linalg import inv\n",
        "import pandas as pd\n",
        "import math\n",
        "\n",
        "# For more decimal places\n",
        "pd.set_option(\"display.precision\", 7)"
      ]
    },
    {
      "cell_type": "code",
      "source": [
        "# Functions\n",
        "f1 = lambda x1, x2: 5*x1**2 - x2**2\n",
        "f2 = lambda x1, x2: x2 - 0.25*(np.sin(x1) + np.cos(x2))\n",
        "\n",
        "# Initial guess\n",
        "x = np.matrix([[0.1], [0.3]])\n",
        "# Tolerance\n",
        "TOL = 10**(-6)\n",
        "\n",
        "# Arrays for approximations for each iteration\n",
        "x1k = np.array(x[0,0])\n",
        "x2k = np.array(x[1,0])"
      ],
      "metadata": {
        "id": "PrSGl1KSgmUO"
      },
      "execution_count": 164,
      "outputs": []
    },
    {
      "cell_type": "code",
      "source": [
        "# Partial derivatives (for step 1 Jacobian)\n",
        "f1_x1 = lambda x1, x2: 10*x1\n",
        "f1_x2 = lambda x1, x2: -2*x2\n",
        "f2_x1 = lambda x1, x2: -1/4*np.cos(x1)\n",
        "f2_x2 = lambda x1, x2: 1 + 1/4*np.sin(x2)"
      ],
      "metadata": {
        "id": "KKxqtPn3hHg2"
      },
      "execution_count": 165,
      "outputs": []
    },
    {
      "cell_type": "code",
      "source": [
        "# Defining Jacobian\n",
        "def Jac(x1, x2, inverse=0):\n",
        "  mat = np.matrix([[f1_x1(x1,x2), f1_x2(x1,x2)], [f2_x1(x1,x2), f2_x2(x1,x2)]])\n",
        "  if inverse == 0:\n",
        "    return mat\n",
        "  if inverse == 1:\n",
        "    return inv(mat)"
      ],
      "metadata": {
        "id": "DJyw_F7rhj7-"
      },
      "execution_count": 166,
      "outputs": []
    },
    {
      "cell_type": "code",
      "source": [
        "# Defining vector-valued function\n",
        "def F(x1, x2):\n",
        "  return np.matrix([[f1(x1,x2)], [f2(x1,x2)]])"
      ],
      "metadata": {
        "id": "RcKSETdWh72H"
      },
      "execution_count": 167,
      "outputs": []
    },
    {
      "cell_type": "code",
      "source": [
        "# Defining l-max norm for a 2D vector\n",
        "def norm(x):\n",
        "  return max(abs(x[0,0]), abs(x[1,0]))"
      ],
      "metadata": {
        "id": "q-xwguIFjQx_"
      },
      "execution_count": 168,
      "outputs": []
    },
    {
      "cell_type": "code",
      "source": [
        "# Step 1\n",
        "A0 = Jac(x[0,0], x[1,0])\n",
        "v = F(x[0,0], x[1,0])\n",
        "\n",
        "# Step 2\n",
        "A = inv(A0)\n",
        "\n",
        "# Step 3\n",
        "s = np.matmul(-A, v)\n",
        "x = x + s\n",
        "k = 2"
      ],
      "metadata": {
        "id": "wvhT5f92hgVX"
      },
      "execution_count": 169,
      "outputs": []
    },
    {
      "cell_type": "code",
      "source": [
        "# Step 4\n",
        "while True:\n",
        "\n",
        "  # Step 5\n",
        "  w = v\n",
        "  v = F(x[0,0], x[1,0])\n",
        "  y = v - w\n",
        "\n",
        "  # Step 6\n",
        "  z = np.matmul(-A, y)\n",
        "\n",
        "  # Step 7\n",
        "  p = np.matmul(-s.T, z)\n",
        "\n",
        "  # Step 8\n",
        "  ut = np.matmul(s.T, A)\n",
        "\n",
        "  # Step 9\n",
        "  A = A + np.multiply(1/p, np.matmul(s+z, ut))\n",
        "\n",
        "  # Step 10\n",
        "  s = np.matmul(-A, v)\n",
        "\n",
        "  # Step 11\n",
        "  x = x + s\n",
        "\n",
        "  # Step 12\n",
        "  if norm(s) < TOL:\n",
        "    print(f'The procedure was successful after {k} iterations.')\n",
        "    break\n",
        "\n",
        "  # Step 13 (next iteration)\n",
        "  k = k + 1\n",
        "\n",
        "  # Appending approximations to array for output\n",
        "  x1k = np.append(x1k, x[0,0])\n",
        "  x2k = np.append(x2k, x[1,0])"
      ],
      "metadata": {
        "colab": {
          "base_uri": "https://localhost:8080/"
        },
        "id": "GkzDmrK0iOJ3",
        "outputId": "910774d0-4cc3-47da-b4b4-6d0caa3389ac"
      },
      "execution_count": 170,
      "outputs": [
        {
          "output_type": "stream",
          "name": "stdout",
          "text": [
            "The procedure was successful after 5 iterations.\n"
          ]
        }
      ]
    },
    {
      "cell_type": "code",
      "source": [
        "# Output\n",
        "df = pd.DataFrame({'x_1^(k)': x1k, 'x_2^(k)': x2k,})\n",
        "df"
      ],
      "metadata": {
        "colab": {
          "base_uri": "https://localhost:8080/",
          "height": 174
        },
        "id": "Bf_MwuEGkyRm",
        "outputId": "d0345016-8abf-4e81-8739-bad8185b4793"
      },
      "execution_count": 171,
      "outputs": [
        {
          "output_type": "execute_result",
          "data": {
            "text/plain": [
              "     x_1^(k)    x_2^(k)\n",
              "0  0.1000000  0.3000000\n",
              "1  0.1208222  0.2710125\n",
              "2  0.1212378  0.2711043\n",
              "3  0.1212419  0.2711052"
            ],
            "text/html": [
              "\n",
              "  <div id=\"df-24b3156c-8372-40bd-8732-f93152807e22\">\n",
              "    <div class=\"colab-df-container\">\n",
              "      <div>\n",
              "<style scoped>\n",
              "    .dataframe tbody tr th:only-of-type {\n",
              "        vertical-align: middle;\n",
              "    }\n",
              "\n",
              "    .dataframe tbody tr th {\n",
              "        vertical-align: top;\n",
              "    }\n",
              "\n",
              "    .dataframe thead th {\n",
              "        text-align: right;\n",
              "    }\n",
              "</style>\n",
              "<table border=\"1\" class=\"dataframe\">\n",
              "  <thead>\n",
              "    <tr style=\"text-align: right;\">\n",
              "      <th></th>\n",
              "      <th>x_1^(k)</th>\n",
              "      <th>x_2^(k)</th>\n",
              "    </tr>\n",
              "  </thead>\n",
              "  <tbody>\n",
              "    <tr>\n",
              "      <th>0</th>\n",
              "      <td>0.1000000</td>\n",
              "      <td>0.3000000</td>\n",
              "    </tr>\n",
              "    <tr>\n",
              "      <th>1</th>\n",
              "      <td>0.1208222</td>\n",
              "      <td>0.2710125</td>\n",
              "    </tr>\n",
              "    <tr>\n",
              "      <th>2</th>\n",
              "      <td>0.1212378</td>\n",
              "      <td>0.2711043</td>\n",
              "    </tr>\n",
              "    <tr>\n",
              "      <th>3</th>\n",
              "      <td>0.1212419</td>\n",
              "      <td>0.2711052</td>\n",
              "    </tr>\n",
              "  </tbody>\n",
              "</table>\n",
              "</div>\n",
              "      <button class=\"colab-df-convert\" onclick=\"convertToInteractive('df-24b3156c-8372-40bd-8732-f93152807e22')\"\n",
              "              title=\"Convert this dataframe to an interactive table.\"\n",
              "              style=\"display:none;\">\n",
              "        \n",
              "  <svg xmlns=\"http://www.w3.org/2000/svg\" height=\"24px\"viewBox=\"0 0 24 24\"\n",
              "       width=\"24px\">\n",
              "    <path d=\"M0 0h24v24H0V0z\" fill=\"none\"/>\n",
              "    <path d=\"M18.56 5.44l.94 2.06.94-2.06 2.06-.94-2.06-.94-.94-2.06-.94 2.06-2.06.94zm-11 1L8.5 8.5l.94-2.06 2.06-.94-2.06-.94L8.5 2.5l-.94 2.06-2.06.94zm10 10l.94 2.06.94-2.06 2.06-.94-2.06-.94-.94-2.06-.94 2.06-2.06.94z\"/><path d=\"M17.41 7.96l-1.37-1.37c-.4-.4-.92-.59-1.43-.59-.52 0-1.04.2-1.43.59L10.3 9.45l-7.72 7.72c-.78.78-.78 2.05 0 2.83L4 21.41c.39.39.9.59 1.41.59.51 0 1.02-.2 1.41-.59l7.78-7.78 2.81-2.81c.8-.78.8-2.07 0-2.86zM5.41 20L4 18.59l7.72-7.72 1.47 1.35L5.41 20z\"/>\n",
              "  </svg>\n",
              "      </button>\n",
              "      \n",
              "  <style>\n",
              "    .colab-df-container {\n",
              "      display:flex;\n",
              "      flex-wrap:wrap;\n",
              "      gap: 12px;\n",
              "    }\n",
              "\n",
              "    .colab-df-convert {\n",
              "      background-color: #E8F0FE;\n",
              "      border: none;\n",
              "      border-radius: 50%;\n",
              "      cursor: pointer;\n",
              "      display: none;\n",
              "      fill: #1967D2;\n",
              "      height: 32px;\n",
              "      padding: 0 0 0 0;\n",
              "      width: 32px;\n",
              "    }\n",
              "\n",
              "    .colab-df-convert:hover {\n",
              "      background-color: #E2EBFA;\n",
              "      box-shadow: 0px 1px 2px rgba(60, 64, 67, 0.3), 0px 1px 3px 1px rgba(60, 64, 67, 0.15);\n",
              "      fill: #174EA6;\n",
              "    }\n",
              "\n",
              "    [theme=dark] .colab-df-convert {\n",
              "      background-color: #3B4455;\n",
              "      fill: #D2E3FC;\n",
              "    }\n",
              "\n",
              "    [theme=dark] .colab-df-convert:hover {\n",
              "      background-color: #434B5C;\n",
              "      box-shadow: 0px 1px 3px 1px rgba(0, 0, 0, 0.15);\n",
              "      filter: drop-shadow(0px 1px 2px rgba(0, 0, 0, 0.3));\n",
              "      fill: #FFFFFF;\n",
              "    }\n",
              "  </style>\n",
              "\n",
              "      <script>\n",
              "        const buttonEl =\n",
              "          document.querySelector('#df-24b3156c-8372-40bd-8732-f93152807e22 button.colab-df-convert');\n",
              "        buttonEl.style.display =\n",
              "          google.colab.kernel.accessAllowed ? 'block' : 'none';\n",
              "\n",
              "        async function convertToInteractive(key) {\n",
              "          const element = document.querySelector('#df-24b3156c-8372-40bd-8732-f93152807e22');\n",
              "          const dataTable =\n",
              "            await google.colab.kernel.invokeFunction('convertToInteractive',\n",
              "                                                     [key], {});\n",
              "          if (!dataTable) return;\n",
              "\n",
              "          const docLinkHtml = 'Like what you see? Visit the ' +\n",
              "            '<a target=\"_blank\" href=https://colab.research.google.com/notebooks/data_table.ipynb>data table notebook</a>'\n",
              "            + ' to learn more about interactive tables.';\n",
              "          element.innerHTML = '';\n",
              "          dataTable['output_type'] = 'display_data';\n",
              "          await google.colab.output.renderOutput(dataTable, element);\n",
              "          const docLink = document.createElement('div');\n",
              "          docLink.innerHTML = docLinkHtml;\n",
              "          element.appendChild(docLink);\n",
              "        }\n",
              "      </script>\n",
              "    </div>\n",
              "  </div>\n",
              "  "
            ]
          },
          "metadata": {},
          "execution_count": 171
        }
      ]
    }
  ]
}