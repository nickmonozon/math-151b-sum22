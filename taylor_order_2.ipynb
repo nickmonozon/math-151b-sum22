{
 "cells": [
  {
   "cell_type": "markdown",
   "metadata": {
    "id": "CKKH0ZX6M3pr"
   },
   "source": [
    "### Taylor's Method (Order 2)\n",
    "\n",
    "This code implements Taylor's Method of order 2 to approximate ordinary differential equations of the form $ y'(t) = f(t,y)$ at equally-spaced mesh points between $t_0$ and $t_1$ with a step size of $h$. Note that the variable `f` below represents $f(t,y)$ and `f_prime` represents the *total derivative* of $f(t,y)$, which is given by\n",
    "\n",
    "$$ \\frac{d}{dt} f(t,y) = \\frac{\\partial f}{\\partial t} + \\frac{\\partial f}{\\partial y} f.$$\n",
    "\n",
    "If the exact solution $y(t)$ is known, we can simplify this computation as\n",
    "$$\\frac{d}{dt} f(t,y) = y''(t).\n",
    "$$\n",
    "\n",
    "We specify an initial condition $y(t_0) = w_0$. As an example, this instance of the code solves Exercise 5.3.9(a) in *Numerical Analysis* (10th Edition) by Burden and Faires."
   ]
  },
  {
   "cell_type": "code",
   "execution_count": 1,
   "metadata": {
    "id": "FvVIxWTNM9KQ"
   },
   "outputs": [],
   "source": [
    "import numpy as np\n",
    "import pandas as pd\n",
    "import math\n",
    "\n",
    "# For more decimal places\n",
    "pd.set_option(\"display.precision\", 7)"
   ]
  },
  {
   "cell_type": "markdown",
   "metadata": {
    "id": "YVaNW41eRobI"
   },
   "source": [
    "Specify your arguments below."
   ]
  },
  {
   "cell_type": "code",
   "execution_count": 2,
   "metadata": {
    "id": "PjEBHXioNIih"
   },
   "outputs": [],
   "source": [
    "# Functions\n",
    "f        = lambda t, y: (2/t)*y + t**2*math.exp(1)**t\n",
    "f_prime  = lambda t, y: (t**2 + 4*t + 2)*math.exp(1)**t - 2*math.exp(1)\n",
    "# Left endpoint\n",
    "t_0 = 1\n",
    "# Right endpoint\n",
    "t_1 = 2\n",
    "# Step size\n",
    "h = 0.1\n",
    "# Initial condition\n",
    "w0 = 0\n",
    "\n",
    "t = np.arange(t_0, t_1+h, h)\n",
    "w = np.zeros(len(t))\n",
    "w[0] = w0"
   ]
  },
  {
   "cell_type": "code",
   "execution_count": 3,
   "metadata": {
    "id": "lPiD9-jmNnmg"
   },
   "outputs": [],
   "source": [
    "for i in range(0, len(t) - 1):\n",
    "  w[i+1] = w[i] + h*(f(t[i], w[i])) + h**2/2*f_prime(t[i], w[i])"
   ]
  },
  {
   "cell_type": "code",
   "execution_count": 4,
   "metadata": {
    "colab": {
     "base_uri": "https://localhost:8080/",
     "height": 394
    },
    "id": "6PdZs9saPpcg",
    "outputId": "71ed0445-90c0-438f-f423-292bb26d972b"
   },
   "outputs": [
    {
     "data": {
      "text/html": [
       "<div>\n",
       "<style scoped>\n",
       "    .dataframe tbody tr th:only-of-type {\n",
       "        vertical-align: middle;\n",
       "    }\n",
       "\n",
       "    .dataframe tbody tr th {\n",
       "        vertical-align: top;\n",
       "    }\n",
       "\n",
       "    .dataframe thead th {\n",
       "        text-align: right;\n",
       "    }\n",
       "</style>\n",
       "<table border=\"1\" class=\"dataframe\">\n",
       "  <thead>\n",
       "    <tr style=\"text-align: right;\">\n",
       "      <th></th>\n",
       "      <th>tᵢ</th>\n",
       "      <th>wᵢ</th>\n",
       "    </tr>\n",
       "  </thead>\n",
       "  <tbody>\n",
       "    <tr>\n",
       "      <th>0</th>\n",
       "      <td>1.0</td>\n",
       "      <td>0.0000000</td>\n",
       "    </tr>\n",
       "    <tr>\n",
       "      <th>1</th>\n",
       "      <td>1.1</td>\n",
       "      <td>0.3397852</td>\n",
       "    </tr>\n",
       "    <tr>\n",
       "      <th>2</th>\n",
       "      <td>1.2</td>\n",
       "      <td>0.8521941</td>\n",
       "    </tr>\n",
       "    <tr>\n",
       "      <th>3</th>\n",
       "      <td>1.3</td>\n",
       "      <td>1.5819293</td>\n",
       "    </tr>\n",
       "    <tr>\n",
       "      <th>4</th>\n",
       "      <td>1.4</td>\n",
       "      <td>2.5813316</td>\n",
       "    </tr>\n",
       "    <tr>\n",
       "      <th>5</th>\n",
       "      <td>1.5</td>\n",
       "      <td>3.9115682</td>\n",
       "    </tr>\n",
       "    <tr>\n",
       "      <th>6</th>\n",
       "      <td>1.6</td>\n",
       "      <td>5.6439945</td>\n",
       "    </tr>\n",
       "    <tr>\n",
       "      <th>7</th>\n",
       "      <td>1.7</td>\n",
       "      <td>7.8617134</td>\n",
       "    </tr>\n",
       "    <tr>\n",
       "      <th>8</th>\n",
       "      <td>1.8</td>\n",
       "      <td>10.6613611</td>\n",
       "    </tr>\n",
       "    <tr>\n",
       "      <th>9</th>\n",
       "      <td>1.9</td>\n",
       "      <td>14.1551478</td>\n",
       "    </tr>\n",
       "    <tr>\n",
       "      <th>10</th>\n",
       "      <td>2.0</td>\n",
       "      <td>18.4731918</td>\n",
       "    </tr>\n",
       "  </tbody>\n",
       "</table>\n",
       "</div>"
      ],
      "text/plain": [
       "     tᵢ          wᵢ\n",
       "0   1.0   0.0000000\n",
       "1   1.1   0.3397852\n",
       "2   1.2   0.8521941\n",
       "3   1.3   1.5819293\n",
       "4   1.4   2.5813316\n",
       "5   1.5   3.9115682\n",
       "6   1.6   5.6439945\n",
       "7   1.7   7.8617134\n",
       "8   1.8  10.6613611\n",
       "9   1.9  14.1551478\n",
       "10  2.0  18.4731918"
      ]
     },
     "execution_count": 4,
     "metadata": {},
     "output_type": "execute_result"
    }
   ],
   "source": [
    "df = pd.DataFrame({('tᵢ'): t, 'wᵢ': w})\n",
    "df"
   ]
  },
  {
   "cell_type": "markdown",
   "metadata": {
    "id": "IM3mPwtbt0xb"
   },
   "source": [
    "### Exact Solution and Actual Error\n",
    "\n",
    "If we know the solution $y(t)$ to the initial value problem--whether it is given to us or we calculate it analytically--the exact values and actual (absolute) error of the Euler approximations can be calculated. Below, `y` represents the solution to the IVP."
   ]
  },
  {
   "cell_type": "code",
   "execution_count": 5,
   "metadata": {
    "id": "nIkDqm9gt1bK"
   },
   "outputs": [],
   "source": [
    "y = lambda t: t**2*(math.exp(1)**t - math.exp(1))\n",
    "yt = np.zeros(len(t))"
   ]
  },
  {
   "cell_type": "code",
   "execution_count": 6,
   "metadata": {
    "id": "s9CNTVVSt3vs"
   },
   "outputs": [],
   "source": [
    "for i in range(0, len(t)):\n",
    "  yt[i] = y(t[i])"
   ]
  },
  {
   "cell_type": "code",
   "execution_count": 7,
   "metadata": {
    "colab": {
     "base_uri": "https://localhost:8080/",
     "height": 394
    },
    "id": "0icyVFGjt4rd",
    "outputId": "853d63f8-59e0-4423-b49d-0a13adbc0b47"
   },
   "outputs": [
    {
     "data": {
      "text/html": [
       "<div>\n",
       "<style scoped>\n",
       "    .dataframe tbody tr th:only-of-type {\n",
       "        vertical-align: middle;\n",
       "    }\n",
       "\n",
       "    .dataframe tbody tr th {\n",
       "        vertical-align: top;\n",
       "    }\n",
       "\n",
       "    .dataframe thead th {\n",
       "        text-align: right;\n",
       "    }\n",
       "</style>\n",
       "<table border=\"1\" class=\"dataframe\">\n",
       "  <thead>\n",
       "    <tr style=\"text-align: right;\">\n",
       "      <th></th>\n",
       "      <th>tᵢ</th>\n",
       "      <th>wᵢ</th>\n",
       "      <th>y(tᵢ)</th>\n",
       "      <th>|y(tᵢ) - wᵢ|</th>\n",
       "    </tr>\n",
       "  </thead>\n",
       "  <tbody>\n",
       "    <tr>\n",
       "      <th>0</th>\n",
       "      <td>1.0</td>\n",
       "      <td>0.0000000</td>\n",
       "      <td>0.0000000</td>\n",
       "      <td>0.0000000</td>\n",
       "    </tr>\n",
       "    <tr>\n",
       "      <th>1</th>\n",
       "      <td>1.1</td>\n",
       "      <td>0.3397852</td>\n",
       "      <td>0.3459199</td>\n",
       "      <td>0.0061346</td>\n",
       "    </tr>\n",
       "    <tr>\n",
       "      <th>2</th>\n",
       "      <td>1.2</td>\n",
       "      <td>0.8521941</td>\n",
       "      <td>0.8666425</td>\n",
       "      <td>0.0144484</td>\n",
       "    </tr>\n",
       "    <tr>\n",
       "      <th>3</th>\n",
       "      <td>1.3</td>\n",
       "      <td>1.5819293</td>\n",
       "      <td>1.6072151</td>\n",
       "      <td>0.0252857</td>\n",
       "    </tr>\n",
       "    <tr>\n",
       "      <th>4</th>\n",
       "      <td>1.4</td>\n",
       "      <td>2.5813316</td>\n",
       "      <td>2.6203596</td>\n",
       "      <td>0.0390279</td>\n",
       "    </tr>\n",
       "    <tr>\n",
       "      <th>5</th>\n",
       "      <td>1.5</td>\n",
       "      <td>3.9115682</td>\n",
       "      <td>3.9676663</td>\n",
       "      <td>0.0560981</td>\n",
       "    </tr>\n",
       "    <tr>\n",
       "      <th>6</th>\n",
       "      <td>1.6</td>\n",
       "      <td>5.6439945</td>\n",
       "      <td>5.7209615</td>\n",
       "      <td>0.0769671</td>\n",
       "    </tr>\n",
       "    <tr>\n",
       "      <th>7</th>\n",
       "      <td>1.7</td>\n",
       "      <td>7.8617134</td>\n",
       "      <td>7.9638735</td>\n",
       "      <td>0.1021601</td>\n",
       "    </tr>\n",
       "    <tr>\n",
       "      <th>8</th>\n",
       "      <td>1.8</td>\n",
       "      <td>10.6613611</td>\n",
       "      <td>10.7936247</td>\n",
       "      <td>0.1322636</td>\n",
       "    </tr>\n",
       "    <tr>\n",
       "      <th>9</th>\n",
       "      <td>1.9</td>\n",
       "      <td>14.1551478</td>\n",
       "      <td>14.3230815</td>\n",
       "      <td>0.1679337</td>\n",
       "    </tr>\n",
       "    <tr>\n",
       "      <th>10</th>\n",
       "      <td>2.0</td>\n",
       "      <td>18.4731918</td>\n",
       "      <td>18.6830971</td>\n",
       "      <td>0.2099053</td>\n",
       "    </tr>\n",
       "  </tbody>\n",
       "</table>\n",
       "</div>"
      ],
      "text/plain": [
       "     tᵢ          wᵢ       y(tᵢ)  |y(tᵢ) - wᵢ|\n",
       "0   1.0   0.0000000   0.0000000     0.0000000\n",
       "1   1.1   0.3397852   0.3459199     0.0061346\n",
       "2   1.2   0.8521941   0.8666425     0.0144484\n",
       "3   1.3   1.5819293   1.6072151     0.0252857\n",
       "4   1.4   2.5813316   2.6203596     0.0390279\n",
       "5   1.5   3.9115682   3.9676663     0.0560981\n",
       "6   1.6   5.6439945   5.7209615     0.0769671\n",
       "7   1.7   7.8617134   7.9638735     0.1021601\n",
       "8   1.8  10.6613611  10.7936247     0.1322636\n",
       "9   1.9  14.1551478  14.3230815     0.1679337\n",
       "10  2.0  18.4731918  18.6830971     0.2099053"
      ]
     },
     "execution_count": 7,
     "metadata": {},
     "output_type": "execute_result"
    }
   ],
   "source": [
    "df2 = pd.DataFrame({('tᵢ'): t, 'wᵢ': w,\n",
    "                    'y(tᵢ)': yt, '|y(tᵢ) - wᵢ|': abs(w-yt)})\n",
    "df2"
   ]
  }
 ],
 "metadata": {
  "colab": {
   "collapsed_sections": [],
   "name": "taylor_order_2.ipynb",
   "provenance": []
  },
  "kernelspec": {
   "display_name": "Python 3 (ipykernel)",
   "language": "python",
   "name": "python3"
  },
  "language_info": {
   "codemirror_mode": {
    "name": "ipython",
    "version": 3
   },
   "file_extension": ".py",
   "mimetype": "text/x-python",
   "name": "python",
   "nbconvert_exporter": "python",
   "pygments_lexer": "ipython3",
   "version": "3.9.7"
  }
 },
 "nbformat": 4,
 "nbformat_minor": 1
}
