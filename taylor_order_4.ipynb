{
 "cells": [
  {
   "cell_type": "markdown",
   "metadata": {
    "id": "CKKH0ZX6M3pr"
   },
   "source": [
    "### Taylor's Method (Order 4)\n",
    "\n",
    "This code implements Taylor's Method of order 4 to approximate ordinary differential equations of the form $ y'(t) = f(t,y)$ at equally-spaced mesh points between $t_0$ and $t_1$ with a step size of $h$. Note that the variable `f` below represents $f(t,y)$ and `f_prime` represents the *total derivative* of $f(t,y)$, which is given by\n",
    "\n",
    "$$ \\frac{d}{dt} f(t,y) = \\frac{\\partial f}{\\partial t} + \\frac{\\partial f}{\\partial y} f.$$\n",
    "\n",
    "If the exact solution $y(t)$ is known, we can simplify this computation as\n",
    "$$\\frac{d}{dt} f(t,y) = y''(t).\n",
    "$$\n",
    "The variables `f_dprime` and `f_tprime` represent the total derivatives of each term of $\\frac{d}{dt} f(t,y)$ and $\\frac{d^2}{dt^2} f(t,y)$, respectively. This can be computationally intensive. Note that again if $y(t)$ is known, we have that\n",
    "$$ \\frac{d^2}{dt^2} f(t,y) = y'''(t)$$\n",
    "and similarly that\n",
    "$$ \\frac{d^3}{dt^3} f(t,y) = y^{(4)}(t).$$\n",
    "\n",
    "We must also specify an initial condition $y(t_0) = w_0$. As an example, this instance of the code solves Exercise 5.3.9(c) in *Numerical Analysis* (10th Edition) by Burden and Faires."
   ]
  },
  {
   "cell_type": "code",
   "execution_count": 1,
   "metadata": {
    "id": "FvVIxWTNM9KQ"
   },
   "outputs": [],
   "source": [
    "import numpy as np\n",
    "import pandas as pd\n",
    "import math\n",
    "\n",
    "# For more decimal places\n",
    "pd.set_option(\"display.precision\", 7)"
   ]
  },
  {
   "cell_type": "markdown",
   "metadata": {
    "id": "YVaNW41eRobI"
   },
   "source": [
    "Specify your arguments below."
   ]
  },
  {
   "cell_type": "code",
   "execution_count": 2,
   "metadata": {
    "id": "PjEBHXioNIih"
   },
   "outputs": [],
   "source": [
    "# Functions\n",
    "f        = lambda t, y: (2/t)*y + t**2*math.exp(1)**t\n",
    "f_prime  = lambda t, y: (t**2 + 4*t + 2)*math.exp(1)**t - 2*math.exp(1)\n",
    "f_dprime = lambda t, y: (t**2 + 6*t + 6)*math.exp(1)**t\n",
    "f_tprime = lambda t, y: (t**2 + 8*t + 12)*math.exp(1)**t\n",
    "# Left endpoint\n",
    "t_0 = 1\n",
    "# Right endpoint\n",
    "t_1 = 2\n",
    "# Step size\n",
    "h = 0.1\n",
    "# Initial condition\n",
    "w0 = 0\n",
    "\n",
    "t = np.arange(t_0, t_1+h, h)\n",
    "w = np.zeros(len(t))\n",
    "w[0] = w0"
   ]
  },
  {
   "cell_type": "code",
   "execution_count": 3,
   "metadata": {
    "id": "lPiD9-jmNnmg"
   },
   "outputs": [],
   "source": [
    "for i in range(0, len(t) - 1):\n",
    "  w[i+1] = w[i] + h*(f(t[i], w[i])) + h**2/2*f_prime(t[i], w[i]) + h**3/6*f_dprime(t[i], w[i]) + h**4/24*f_tprime(t[i], w[i])"
   ]
  },
  {
   "cell_type": "code",
   "execution_count": 4,
   "metadata": {
    "colab": {
     "base_uri": "https://localhost:8080/",
     "height": 394
    },
    "id": "6PdZs9saPpcg",
    "outputId": "ea6f08e4-7c01-478e-bdea-e3014fe89f04"
   },
   "outputs": [
    {
     "data": {
      "text/html": [
       "<div>\n",
       "<style scoped>\n",
       "    .dataframe tbody tr th:only-of-type {\n",
       "        vertical-align: middle;\n",
       "    }\n",
       "\n",
       "    .dataframe tbody tr th {\n",
       "        vertical-align: top;\n",
       "    }\n",
       "\n",
       "    .dataframe thead th {\n",
       "        text-align: right;\n",
       "    }\n",
       "</style>\n",
       "<table border=\"1\" class=\"dataframe\">\n",
       "  <thead>\n",
       "    <tr style=\"text-align: right;\">\n",
       "      <th></th>\n",
       "      <th>tᵢ</th>\n",
       "      <th>wᵢ</th>\n",
       "    </tr>\n",
       "  </thead>\n",
       "  <tbody>\n",
       "    <tr>\n",
       "      <th>0</th>\n",
       "      <td>1.0</td>\n",
       "      <td>0.0000000</td>\n",
       "    </tr>\n",
       "    <tr>\n",
       "      <th>1</th>\n",
       "      <td>1.1</td>\n",
       "      <td>0.3459127</td>\n",
       "    </tr>\n",
       "    <tr>\n",
       "      <th>2</th>\n",
       "      <td>1.2</td>\n",
       "      <td>0.8666258</td>\n",
       "    </tr>\n",
       "    <tr>\n",
       "      <th>3</th>\n",
       "      <td>1.3</td>\n",
       "      <td>1.6071861</td>\n",
       "    </tr>\n",
       "    <tr>\n",
       "      <th>4</th>\n",
       "      <td>1.4</td>\n",
       "      <td>2.6203152</td>\n",
       "    </tr>\n",
       "    <tr>\n",
       "      <th>5</th>\n",
       "      <td>1.5</td>\n",
       "      <td>3.9676032</td>\n",
       "    </tr>\n",
       "    <tr>\n",
       "      <th>6</th>\n",
       "      <td>1.6</td>\n",
       "      <td>5.7208758</td>\n",
       "    </tr>\n",
       "    <tr>\n",
       "      <th>7</th>\n",
       "      <td>1.7</td>\n",
       "      <td>7.9637608</td>\n",
       "    </tr>\n",
       "    <tr>\n",
       "      <th>8</th>\n",
       "      <td>1.8</td>\n",
       "      <td>10.7934801</td>\n",
       "    </tr>\n",
       "    <tr>\n",
       "      <th>9</th>\n",
       "      <td>1.9</td>\n",
       "      <td>14.3228996</td>\n",
       "    </tr>\n",
       "    <tr>\n",
       "      <th>10</th>\n",
       "      <td>2.0</td>\n",
       "      <td>18.6828717</td>\n",
       "    </tr>\n",
       "  </tbody>\n",
       "</table>\n",
       "</div>"
      ],
      "text/plain": [
       "     tᵢ          wᵢ\n",
       "0   1.0   0.0000000\n",
       "1   1.1   0.3459127\n",
       "2   1.2   0.8666258\n",
       "3   1.3   1.6071861\n",
       "4   1.4   2.6203152\n",
       "5   1.5   3.9676032\n",
       "6   1.6   5.7208758\n",
       "7   1.7   7.9637608\n",
       "8   1.8  10.7934801\n",
       "9   1.9  14.3228996\n",
       "10  2.0  18.6828717"
      ]
     },
     "execution_count": 4,
     "metadata": {},
     "output_type": "execute_result"
    }
   ],
   "source": [
    "df = pd.DataFrame({('tᵢ'): t, 'wᵢ': w})\n",
    "df"
   ]
  },
  {
   "cell_type": "markdown",
   "metadata": {
    "id": "IM3mPwtbt0xb"
   },
   "source": [
    "### Exact Solution and Actual Error\n",
    "\n",
    "If we know the solution $y(t)$ to the initial value problem--whether it is given to us or we calculate it analytically--the exact values and actual (absolute) error of the Euler approximations can be calculated. Below, `y` represents the solution to the IVP."
   ]
  },
  {
   "cell_type": "code",
   "execution_count": 5,
   "metadata": {
    "id": "nIkDqm9gt1bK"
   },
   "outputs": [],
   "source": [
    "y = lambda t: t**2*(math.exp(1)**t - math.exp(1))\n",
    "yt = np.zeros(len(t))"
   ]
  },
  {
   "cell_type": "code",
   "execution_count": 6,
   "metadata": {
    "id": "s9CNTVVSt3vs"
   },
   "outputs": [],
   "source": [
    "for i in range(0, len(t)):\n",
    "  yt[i] = y(t[i])"
   ]
  },
  {
   "cell_type": "code",
   "execution_count": 7,
   "metadata": {
    "colab": {
     "base_uri": "https://localhost:8080/",
     "height": 394
    },
    "id": "0icyVFGjt4rd",
    "outputId": "9684b77b-2013-4d81-fcc9-728d2a06a096"
   },
   "outputs": [
    {
     "data": {
      "text/html": [
       "<div>\n",
       "<style scoped>\n",
       "    .dataframe tbody tr th:only-of-type {\n",
       "        vertical-align: middle;\n",
       "    }\n",
       "\n",
       "    .dataframe tbody tr th {\n",
       "        vertical-align: top;\n",
       "    }\n",
       "\n",
       "    .dataframe thead th {\n",
       "        text-align: right;\n",
       "    }\n",
       "</style>\n",
       "<table border=\"1\" class=\"dataframe\">\n",
       "  <thead>\n",
       "    <tr style=\"text-align: right;\">\n",
       "      <th></th>\n",
       "      <th>tᵢ</th>\n",
       "      <th>wᵢ</th>\n",
       "      <th>y(tᵢ)</th>\n",
       "      <th>|y(tᵢ) - wᵢ|</th>\n",
       "    </tr>\n",
       "  </thead>\n",
       "  <tbody>\n",
       "    <tr>\n",
       "      <th>0</th>\n",
       "      <td>1.0</td>\n",
       "      <td>0.0000000</td>\n",
       "      <td>0.0000000</td>\n",
       "      <td>0.0000000</td>\n",
       "    </tr>\n",
       "    <tr>\n",
       "      <th>1</th>\n",
       "      <td>1.1</td>\n",
       "      <td>0.3459127</td>\n",
       "      <td>0.3459199</td>\n",
       "      <td>0.0000072</td>\n",
       "    </tr>\n",
       "    <tr>\n",
       "      <th>2</th>\n",
       "      <td>1.2</td>\n",
       "      <td>0.8666258</td>\n",
       "      <td>0.8666425</td>\n",
       "      <td>0.0000167</td>\n",
       "    </tr>\n",
       "    <tr>\n",
       "      <th>3</th>\n",
       "      <td>1.3</td>\n",
       "      <td>1.6071861</td>\n",
       "      <td>1.6072151</td>\n",
       "      <td>0.0000290</td>\n",
       "    </tr>\n",
       "    <tr>\n",
       "      <th>4</th>\n",
       "      <td>1.4</td>\n",
       "      <td>2.6203152</td>\n",
       "      <td>2.6203596</td>\n",
       "      <td>0.0000443</td>\n",
       "    </tr>\n",
       "    <tr>\n",
       "      <th>5</th>\n",
       "      <td>1.5</td>\n",
       "      <td>3.9676032</td>\n",
       "      <td>3.9676663</td>\n",
       "      <td>0.0000631</td>\n",
       "    </tr>\n",
       "    <tr>\n",
       "      <th>6</th>\n",
       "      <td>1.6</td>\n",
       "      <td>5.7208758</td>\n",
       "      <td>5.7209615</td>\n",
       "      <td>0.0000857</td>\n",
       "    </tr>\n",
       "    <tr>\n",
       "      <th>7</th>\n",
       "      <td>1.7</td>\n",
       "      <td>7.9637608</td>\n",
       "      <td>7.9638735</td>\n",
       "      <td>0.0001127</td>\n",
       "    </tr>\n",
       "    <tr>\n",
       "      <th>8</th>\n",
       "      <td>1.8</td>\n",
       "      <td>10.7934801</td>\n",
       "      <td>10.7936247</td>\n",
       "      <td>0.0001446</td>\n",
       "    </tr>\n",
       "    <tr>\n",
       "      <th>9</th>\n",
       "      <td>1.9</td>\n",
       "      <td>14.3228996</td>\n",
       "      <td>14.3230815</td>\n",
       "      <td>0.0001819</td>\n",
       "    </tr>\n",
       "    <tr>\n",
       "      <th>10</th>\n",
       "      <td>2.0</td>\n",
       "      <td>18.6828717</td>\n",
       "      <td>18.6830971</td>\n",
       "      <td>0.0002253</td>\n",
       "    </tr>\n",
       "  </tbody>\n",
       "</table>\n",
       "</div>"
      ],
      "text/plain": [
       "     tᵢ          wᵢ       y(tᵢ)  |y(tᵢ) - wᵢ|\n",
       "0   1.0   0.0000000   0.0000000     0.0000000\n",
       "1   1.1   0.3459127   0.3459199     0.0000072\n",
       "2   1.2   0.8666258   0.8666425     0.0000167\n",
       "3   1.3   1.6071861   1.6072151     0.0000290\n",
       "4   1.4   2.6203152   2.6203596     0.0000443\n",
       "5   1.5   3.9676032   3.9676663     0.0000631\n",
       "6   1.6   5.7208758   5.7209615     0.0000857\n",
       "7   1.7   7.9637608   7.9638735     0.0001127\n",
       "8   1.8  10.7934801  10.7936247     0.0001446\n",
       "9   1.9  14.3228996  14.3230815     0.0001819\n",
       "10  2.0  18.6828717  18.6830971     0.0002253"
      ]
     },
     "execution_count": 7,
     "metadata": {},
     "output_type": "execute_result"
    }
   ],
   "source": [
    "df2 = pd.DataFrame({('tᵢ'): t, 'wᵢ': w,\n",
    "                    'y(tᵢ)': yt, '|y(tᵢ) - wᵢ|': abs(w-yt)})\n",
    "df2"
   ]
  }
 ],
 "metadata": {
  "colab": {
   "name": "taylor_order_4.ipynb",
   "provenance": []
  },
  "kernelspec": {
   "display_name": "Python 3 (ipykernel)",
   "language": "python",
   "name": "python3"
  },
  "language_info": {
   "codemirror_mode": {
    "name": "ipython",
    "version": 3
   },
   "file_extension": ".py",
   "mimetype": "text/x-python",
   "name": "python",
   "nbconvert_exporter": "python",
   "pygments_lexer": "ipython3",
   "version": "3.9.7"
  }
 },
 "nbformat": 4,
 "nbformat_minor": 1
}
