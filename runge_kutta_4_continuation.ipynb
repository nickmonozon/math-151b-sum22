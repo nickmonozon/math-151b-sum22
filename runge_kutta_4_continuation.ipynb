{
  "nbformat": 4,
  "nbformat_minor": 0,
  "metadata": {
    "colab": {
      "provenance": [],
      "collapsed_sections": []
    },
    "kernelspec": {
      "name": "python3",
      "display_name": "Python 3"
    },
    "language_info": {
      "name": "python"
    }
  },
  "cells": [
    {
      "cell_type": "markdown",
      "source": [
        "### Continuation Method with Fourth-Order Runge-Kutta\n",
        "This code implements the continuation algorithm and fourth-order Runge-Kutta method to approximate the solution to a nonlinear system $\\mathbf{F}(\\mathbf{x}) = \\mathbf{0}$ of 2 equations, i.e., $f(\\mathbf{x}) = (x_1, x_2)^{\\top}$. We require as input functions $f_1(x_1, x_2)$ as `f1` and $f_2(x_1,x_2)$ as `f2`, as well as the $(i,j)$th components of the Jacobian matrix\n",
        "$$\n",
        "\\mathbf{J}(\\mathbf{x}) = \\begin{bmatrix}\n",
        "\\frac{\\partial f_1(\\mathbf{x})}{\\partial x_1} & \\frac{\\partial f_1(\\mathbf{x})}{\\partial x_2} \\\\\n",
        "\\frac{\\partial f_2(\\mathbf{x})}{\\partial x_1} & \\frac{\\partial f_2(\\mathbf{x})}{\\partial x_2}\n",
        "\\end{bmatrix}.\n",
        "$$\n",
        "for $i, j \\in \\{1,2\\}$. The algorithm is implemented identically to the pseudocode given in Algorithm 10.4 of *Numerical Analysis* (10th Edition) by Burden and Faires. This notebook provides the solution to 10.5.2(b) in the same book.\n",
        "\n",
        "Note that we supply an initial guess $\\mathbf{x}(0)$ and use it to approximate $\\mathbf{x}(1)$ in this method."
      ],
      "metadata": {
        "id": "8XInlM9bS_wI"
      }
    },
    {
      "cell_type": "code",
      "source": [
        "# Imports\n",
        "import numpy as np\n",
        "from numpy.linalg import inv, norm\n",
        "import pandas as pd\n",
        "import math\n",
        "\n",
        "# For more decimal places\n",
        "pd.set_option(\"display.precision\", 7)"
      ],
      "metadata": {
        "id": "VbLocO4HTFPK"
      },
      "execution_count": 253,
      "outputs": []
    },
    {
      "cell_type": "code",
      "source": [
        "# Functions\n",
        "f1 = lambda x1, x2: x1**2 - x2**2 + 2*x2\n",
        "f2 = lambda x1, x2: 2*x1 + x2**2 - 6\n",
        "\n",
        "# Initial guess\n",
        "x = np.matrix([[1], [1]])\n",
        "# Number of iterations\n",
        "N = 1"
      ],
      "metadata": {
        "id": "JxLONgbhThqa"
      },
      "execution_count": 254,
      "outputs": []
    },
    {
      "cell_type": "code",
      "source": [
        "# Partial derivatives (for Jacobian)\n",
        "f1_x1 = lambda x1, x2: 2*x1\n",
        "f1_x2 = lambda x1, x2: -2*x2 + 2\n",
        "f2_x1 = lambda x1, x2: 2\n",
        "f2_x2 = lambda x1, x2: 2*x2"
      ],
      "metadata": {
        "id": "5WB73k-wTwTD"
      },
      "execution_count": 255,
      "outputs": []
    },
    {
      "cell_type": "code",
      "source": [
        "# Defining Jacobian\n",
        "def Jac(x1, x2):\n",
        "  mat = np.matrix([[f1_x1(x1,x2), f1_x2(x1,x2)], [f2_x1(x1,x2), f2_x2(x1,x2)]])\n",
        "  return mat"
      ],
      "metadata": {
        "id": "5nUMhFE9TdNz"
      },
      "execution_count": 256,
      "outputs": []
    },
    {
      "cell_type": "code",
      "source": [
        "# Defining vector-valued function\n",
        "def F(x1, x2):\n",
        "  return np.matrix([[f1(x1,x2)], [f2(x1,x2)]])"
      ],
      "metadata": {
        "id": "5Oews7lnUkTS"
      },
      "execution_count": 257,
      "outputs": []
    },
    {
      "cell_type": "code",
      "source": [
        "# Step 1\n",
        "h = 1/N\n",
        "b = -h*F(x[0,0], x[1,0])"
      ],
      "metadata": {
        "id": "jO88EzWCTf6K"
      },
      "execution_count": 258,
      "outputs": []
    },
    {
      "cell_type": "code",
      "source": [
        "# Step 2\n",
        "for i in range(1, N+1):\n",
        "\n",
        "  # Step 3\n",
        "  A = Jac(x[0,0], x[1,0])\n",
        "  k1 = np.dot(inv(A), b)\n",
        "\n",
        "  # Step 4\n",
        "  A = Jac(x[0,0] + 1/2*k1[0,0], x[1,0] + 1/2*k1[1,0])\n",
        "  k2 = np.dot(inv(A), b)\n",
        "\n",
        "  # Step 5\n",
        "  A = Jac(x[0,0] + 1/2*k2[0,0], x[1,0] + 1/2*k2[1,0])\n",
        "  k3 = np.dot(inv(A), b)\n",
        "\n",
        "  # Step 6\n",
        "  A = Jac(x[0,0] + k3[0,0], x[1,0] + k3[1,0])\n",
        "  k4 = np.dot(inv(A), b)\n",
        "\n",
        "  # Step 7\n",
        "  x = x + (k1 + 2*k2 + 2*k3 + k4)/6"
      ],
      "metadata": {
        "id": "ybGZ1Xj-UtHq"
      },
      "execution_count": 259,
      "outputs": []
    },
    {
      "cell_type": "code",
      "source": [
        "# Output\n",
        "print(f'The continuation method with fourth-order Runge-Kutta approximates the solution {round(float(x[0]), 8), round(float(x[1]), 8)} for N={N}.')"
      ],
      "metadata": {
        "colab": {
          "base_uri": "https://localhost:8080/"
        },
        "id": "B-ptEB61bCp8",
        "outputId": "3bd68c1e-381f-4f97-e2d4-90c955a7f234"
      },
      "execution_count": 260,
      "outputs": [
        {
          "output_type": "stream",
          "name": "stdout",
          "text": [
            "The continuation method with fourth-order Runge-Kutta approximates the solution (0.59709702, 2.25796842) for N=1.\n"
          ]
        }
      ]
    }
  ]
}