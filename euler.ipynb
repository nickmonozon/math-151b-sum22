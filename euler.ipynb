{
 "cells": [
  {
   "cell_type": "markdown",
   "metadata": {
    "id": "b4y3QgNBybZp"
   },
   "source": [
    "### Euler's Method\n",
    "\n",
    "This code implements Euler's Method to approximate ordinary differential equations of the form $ y'(t) = f(t,y)$ at equally-spaced mesh points between $t_0$ and $t_1$ with a step size of $h$. Note that the variable `f` below represents $f(t,y)$.\n",
    "\n",
    "We specify an initial condition $y(t_0) = w_0$. As an example, this instance of the code solves Exercise 5.2.9(a) in *Numerical Analysis* (10th Edition) by Burden and Faires."
   ]
  },
  {
   "cell_type": "code",
   "execution_count": 1,
   "metadata": {
    "id": "dUwj0v5SxvQ-"
   },
   "outputs": [],
   "source": [
    "import numpy as np\n",
    "import pandas as pd\n",
    "import math\n",
    "\n",
    "# For more decimal places\n",
    "pd.set_option(\"display.precision\", 7)"
   ]
  },
  {
   "cell_type": "markdown",
   "metadata": {
    "id": "Mr8eXnou1BrJ"
   },
   "source": [
    "Specify your desired arguments below."
   ]
  },
  {
   "cell_type": "code",
   "execution_count": 2,
   "metadata": {
    "id": "SD1Kzq8oxxo5"
   },
   "outputs": [],
   "source": [
    "# Function\n",
    "f = lambda t, y: (2/t)*y + t**2*math.exp(1)**t\n",
    "# Left endpoint\n",
    "t_0 = 1\n",
    "# Right endpoint\n",
    "t_1 = 2\n",
    "# Step size\n",
    "h = 0.1\n",
    "# Initial condition\n",
    "w0 = 0\n",
    "\n",
    "N = int((t_1-t_0)/h)\n",
    "t = np.arange(t_0, t_1+h, h)\n",
    "w = np.zeros(len(t))\n",
    "w[0] = w0"
   ]
  },
  {
   "cell_type": "code",
   "execution_count": 3,
   "metadata": {
    "id": "SPAS2EzA1cRK"
   },
   "outputs": [],
   "source": [
    "for i in range(0, len(t) - 1):\n",
    "  w[i+1] = round(w[i] + h*f(t[i], w[i]), 5)"
   ]
  },
  {
   "cell_type": "code",
   "execution_count": 4,
   "metadata": {
    "colab": {
     "base_uri": "https://localhost:8080/",
     "height": 394
    },
    "id": "USS3u9ZY1mkq",
    "outputId": "6515aeb3-c022-49a6-f44f-26a2c93ccf3f"
   },
   "outputs": [
    {
     "data": {
      "text/html": [
       "<div>\n",
       "<style scoped>\n",
       "    .dataframe tbody tr th:only-of-type {\n",
       "        vertical-align: middle;\n",
       "    }\n",
       "\n",
       "    .dataframe tbody tr th {\n",
       "        vertical-align: top;\n",
       "    }\n",
       "\n",
       "    .dataframe thead th {\n",
       "        text-align: right;\n",
       "    }\n",
       "</style>\n",
       "<table border=\"1\" class=\"dataframe\">\n",
       "  <thead>\n",
       "    <tr style=\"text-align: right;\">\n",
       "      <th></th>\n",
       "      <th>tᵢ</th>\n",
       "      <th>wᵢ</th>\n",
       "    </tr>\n",
       "  </thead>\n",
       "  <tbody>\n",
       "    <tr>\n",
       "      <th>0</th>\n",
       "      <td>1.0</td>\n",
       "      <td>0.00000</td>\n",
       "    </tr>\n",
       "    <tr>\n",
       "      <th>1</th>\n",
       "      <td>1.1</td>\n",
       "      <td>0.27183</td>\n",
       "    </tr>\n",
       "    <tr>\n",
       "      <th>2</th>\n",
       "      <td>1.2</td>\n",
       "      <td>0.68476</td>\n",
       "    </tr>\n",
       "    <tr>\n",
       "      <th>3</th>\n",
       "      <td>1.3</td>\n",
       "      <td>1.27698</td>\n",
       "    </tr>\n",
       "    <tr>\n",
       "      <th>4</th>\n",
       "      <td>1.4</td>\n",
       "      <td>2.09355</td>\n",
       "    </tr>\n",
       "    <tr>\n",
       "      <th>5</th>\n",
       "      <td>1.5</td>\n",
       "      <td>3.18745</td>\n",
       "    </tr>\n",
       "    <tr>\n",
       "      <th>6</th>\n",
       "      <td>1.6</td>\n",
       "      <td>4.62082</td>\n",
       "    </tr>\n",
       "    <tr>\n",
       "      <th>7</th>\n",
       "      <td>1.7</td>\n",
       "      <td>6.46640</td>\n",
       "    </tr>\n",
       "    <tr>\n",
       "      <th>8</th>\n",
       "      <td>1.8</td>\n",
       "      <td>8.80912</td>\n",
       "    </tr>\n",
       "    <tr>\n",
       "      <th>9</th>\n",
       "      <td>1.9</td>\n",
       "      <td>11.74800</td>\n",
       "    </tr>\n",
       "    <tr>\n",
       "      <th>10</th>\n",
       "      <td>2.0</td>\n",
       "      <td>15.39824</td>\n",
       "    </tr>\n",
       "  </tbody>\n",
       "</table>\n",
       "</div>"
      ],
      "text/plain": [
       "     tᵢ        wᵢ\n",
       "0   1.0   0.00000\n",
       "1   1.1   0.27183\n",
       "2   1.2   0.68476\n",
       "3   1.3   1.27698\n",
       "4   1.4   2.09355\n",
       "5   1.5   3.18745\n",
       "6   1.6   4.62082\n",
       "7   1.7   6.46640\n",
       "8   1.8   8.80912\n",
       "9   1.9  11.74800\n",
       "10  2.0  15.39824"
      ]
     },
     "execution_count": 4,
     "metadata": {},
     "output_type": "execute_result"
    }
   ],
   "source": [
    "df = pd.DataFrame({('tᵢ'): t, 'wᵢ': w})\n",
    "df"
   ]
  },
  {
   "cell_type": "markdown",
   "metadata": {
    "id": "nVwTGJUv7hIa"
   },
   "source": [
    "### Exact Solution and Actual Error\n",
    "\n",
    "If we know the solution $y(t)$ to the initial value problem--whether it is given to us or we calculate it analytically--the exact values and actual (absolute) error of the Euler approximations can be calculated. Below, `y` represents the solution to the IVP."
   ]
  },
  {
   "cell_type": "code",
   "execution_count": 5,
   "metadata": {
    "id": "EJHv7xiz-euS"
   },
   "outputs": [],
   "source": [
    "y = lambda t: t**2*(math.exp(1)**t - math.exp(1))\n",
    "yt = np.zeros(len(t))"
   ]
  },
  {
   "cell_type": "code",
   "execution_count": 6,
   "metadata": {
    "id": "9y1L0DdJ_m-a"
   },
   "outputs": [],
   "source": [
    "for i in range(0, len(t)):\n",
    "  yt[i] = y(t[i])"
   ]
  },
  {
   "cell_type": "code",
   "execution_count": 7,
   "metadata": {
    "colab": {
     "base_uri": "https://localhost:8080/",
     "height": 394
    },
    "id": "vcspVjCj_oOh",
    "outputId": "740eafdf-7ae2-4b41-b465-5c9277053129"
   },
   "outputs": [
    {
     "data": {
      "text/html": [
       "<div>\n",
       "<style scoped>\n",
       "    .dataframe tbody tr th:only-of-type {\n",
       "        vertical-align: middle;\n",
       "    }\n",
       "\n",
       "    .dataframe tbody tr th {\n",
       "        vertical-align: top;\n",
       "    }\n",
       "\n",
       "    .dataframe thead th {\n",
       "        text-align: right;\n",
       "    }\n",
       "</style>\n",
       "<table border=\"1\" class=\"dataframe\">\n",
       "  <thead>\n",
       "    <tr style=\"text-align: right;\">\n",
       "      <th></th>\n",
       "      <th>tᵢ</th>\n",
       "      <th>wᵢ</th>\n",
       "      <th>y(tᵢ)</th>\n",
       "      <th>|y(tᵢ) - wᵢ|</th>\n",
       "    </tr>\n",
       "  </thead>\n",
       "  <tbody>\n",
       "    <tr>\n",
       "      <th>0</th>\n",
       "      <td>1.0</td>\n",
       "      <td>0.00000</td>\n",
       "      <td>0.0000000</td>\n",
       "      <td>0.0000000</td>\n",
       "    </tr>\n",
       "    <tr>\n",
       "      <th>1</th>\n",
       "      <td>1.1</td>\n",
       "      <td>0.27183</td>\n",
       "      <td>0.3459199</td>\n",
       "      <td>0.0740899</td>\n",
       "    </tr>\n",
       "    <tr>\n",
       "      <th>2</th>\n",
       "      <td>1.2</td>\n",
       "      <td>0.68476</td>\n",
       "      <td>0.8666425</td>\n",
       "      <td>0.1818825</td>\n",
       "    </tr>\n",
       "    <tr>\n",
       "      <th>3</th>\n",
       "      <td>1.3</td>\n",
       "      <td>1.27698</td>\n",
       "      <td>1.6072151</td>\n",
       "      <td>0.3302351</td>\n",
       "    </tr>\n",
       "    <tr>\n",
       "      <th>4</th>\n",
       "      <td>1.4</td>\n",
       "      <td>2.09355</td>\n",
       "      <td>2.6203596</td>\n",
       "      <td>0.5268096</td>\n",
       "    </tr>\n",
       "    <tr>\n",
       "      <th>5</th>\n",
       "      <td>1.5</td>\n",
       "      <td>3.18745</td>\n",
       "      <td>3.9676663</td>\n",
       "      <td>0.7802163</td>\n",
       "    </tr>\n",
       "    <tr>\n",
       "      <th>6</th>\n",
       "      <td>1.6</td>\n",
       "      <td>4.62082</td>\n",
       "      <td>5.7209615</td>\n",
       "      <td>1.1001415</td>\n",
       "    </tr>\n",
       "    <tr>\n",
       "      <th>7</th>\n",
       "      <td>1.7</td>\n",
       "      <td>6.46640</td>\n",
       "      <td>7.9638735</td>\n",
       "      <td>1.4974735</td>\n",
       "    </tr>\n",
       "    <tr>\n",
       "      <th>8</th>\n",
       "      <td>1.8</td>\n",
       "      <td>8.80912</td>\n",
       "      <td>10.7936247</td>\n",
       "      <td>1.9845047</td>\n",
       "    </tr>\n",
       "    <tr>\n",
       "      <th>9</th>\n",
       "      <td>1.9</td>\n",
       "      <td>11.74800</td>\n",
       "      <td>14.3230815</td>\n",
       "      <td>2.5750815</td>\n",
       "    </tr>\n",
       "    <tr>\n",
       "      <th>10</th>\n",
       "      <td>2.0</td>\n",
       "      <td>15.39824</td>\n",
       "      <td>18.6830971</td>\n",
       "      <td>3.2848571</td>\n",
       "    </tr>\n",
       "  </tbody>\n",
       "</table>\n",
       "</div>"
      ],
      "text/plain": [
       "     tᵢ        wᵢ       y(tᵢ)  |y(tᵢ) - wᵢ|\n",
       "0   1.0   0.00000   0.0000000     0.0000000\n",
       "1   1.1   0.27183   0.3459199     0.0740899\n",
       "2   1.2   0.68476   0.8666425     0.1818825\n",
       "3   1.3   1.27698   1.6072151     0.3302351\n",
       "4   1.4   2.09355   2.6203596     0.5268096\n",
       "5   1.5   3.18745   3.9676663     0.7802163\n",
       "6   1.6   4.62082   5.7209615     1.1001415\n",
       "7   1.7   6.46640   7.9638735     1.4974735\n",
       "8   1.8   8.80912  10.7936247     1.9845047\n",
       "9   1.9  11.74800  14.3230815     2.5750815\n",
       "10  2.0  15.39824  18.6830971     3.2848571"
      ]
     },
     "execution_count": 7,
     "metadata": {},
     "output_type": "execute_result"
    }
   ],
   "source": [
    "df2 = pd.DataFrame({('tᵢ'): t, 'wᵢ': w,\n",
    "                    'y(tᵢ)': yt, '|y(tᵢ) - wᵢ|': abs(w-yt)})\n",
    "df2"
   ]
  }
 ],
 "metadata": {
  "colab": {
   "collapsed_sections": [],
   "name": "euler",
   "provenance": []
  },
  "kernelspec": {
   "display_name": "Python 3 (ipykernel)",
   "language": "python",
   "name": "python3"
  },
  "language_info": {
   "codemirror_mode": {
    "name": "ipython",
    "version": 3
   },
   "file_extension": ".py",
   "mimetype": "text/x-python",
   "name": "python",
   "nbconvert_exporter": "python",
   "pygments_lexer": "ipython3",
   "version": "3.9.7"
  }
 },
 "nbformat": 4,
 "nbformat_minor": 1
}
