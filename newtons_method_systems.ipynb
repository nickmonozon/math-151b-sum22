{
  "nbformat": 4,
  "nbformat_minor": 0,
  "metadata": {
    "colab": {
      "provenance": [],
      "collapsed_sections": []
    },
    "kernelspec": {
      "name": "python3",
      "display_name": "Python 3"
    },
    "language_info": {
      "name": "python"
    }
  },
  "cells": [
    {
      "cell_type": "markdown",
      "source": [
        "### Newton's Method for Nonlinear Systems of 2 Equations\n",
        "\n",
        "This notebook implements Newton's Method to find the solution of a nonlinear system of 2 equations $\\mathbf{F}(\\mathbf{x}) = \\mathbf{0}$ where $\\mathbf{x} = (x_1, x_2)^{\\top}$. To apply the method, we must specify functions $f_1(\\mathbf{x})$ and $f_2(\\mathbf{x})$ which correspond to variables `f1` and `f2`. Furthermore, we must calculate the Jacobian matrix $\\mathbf{J}(\\mathbf{x})$, which is given by\n",
        "$$\n",
        "\\mathbf{J}(\\mathbf{x}) = \\begin{bmatrix}\n",
        "\\frac{\\partial f_1(\\mathbf{x})}{\\partial x_1} & \\frac{\\partial f_1(\\mathbf{x})}{\\partial x_2} \\\\\n",
        "\\frac{\\partial f_2(\\mathbf{x})}{\\partial x_1} & \\frac{\\partial f_2(\\mathbf{x})}{\\partial x_2}\n",
        "\\end{bmatrix}.\n",
        "$$\n",
        "Note that the (1,1)th entry of $\\mathbf{J}(\\mathbf{x})$ corresponds to the variable `f1_x1`, the (1,2)th entry to `f1_x2`, the (2,1)th entry to `f2_x1`, and the (2,2)th entry to `f2_x2`. We also input our initial guess into the $2 \\times 1$ matrix represented by `x`. This algorithm is implemented according to the pseudocode in Algorithm 10.1 of *Numerical Analysis* (10th Edition) by Burden and Faires. The example below corresponds to 11.2.7(b) in the same book."
      ],
      "metadata": {
        "id": "9sAY0mw3jggj"
      }
    },
    {
      "cell_type": "code",
      "source": [
        "# Imports\n",
        "import numpy as np\n",
        "from numpy.linalg import inv\n",
        "import pandas as pd\n",
        "import math\n",
        "\n",
        "# For more decimal places\n",
        "pd.set_option(\"display.precision\", 7)"
      ],
      "metadata": {
        "id": "qbEUpbb2jsHz"
      },
      "execution_count": 248,
      "outputs": []
    },
    {
      "cell_type": "code",
      "source": [
        "# Functions\n",
        "f1 = lambda x1, x2: np.log(x1**2 + x2**2) - np.sin(x1*x2) - np.log(2) - np.log(math.pi)\n",
        "f2 = lambda x1, x2: math.exp(x1 - x2) + np.cos(x1*x2)\n",
        "\n",
        "# Initial guess\n",
        "x = np.matrix([[2], [2]])\n",
        "# Tolerance\n",
        "TOL = 10**(-6)\n",
        "\n",
        "# Arrays for approximations for each iteration\n",
        "x1k = np.array(x[0,0])\n",
        "x2k = np.array(x[1,0])"
      ],
      "metadata": {
        "id": "TKxri-YPjtEz"
      },
      "execution_count": 249,
      "outputs": []
    },
    {
      "cell_type": "code",
      "source": [
        "# Partial derivatives (for Jacobian)\n",
        "f1_x1 = lambda x1, x2: (2*x1)/(x1**2 + x2**2) - x2*np.cos(x1*x2)\n",
        "f1_x2 = lambda x1, x2: (2*x2)/(x1**2 + x2**2) - x1*np.cos(x1*x2)\n",
        "f2_x1 = lambda x1, x2: math.exp(x1-x2) - x2*np.sin(x1*x2)\n",
        "f2_x2 = lambda x1, x2: -x1*np.sin(x1*x2) - math.exp(x1-x2)"
      ],
      "metadata": {
        "id": "qp-ADE8nntCs"
      },
      "execution_count": 250,
      "outputs": []
    },
    {
      "cell_type": "code",
      "source": [
        "# Defining Jacobian\n",
        "def Jac(x1, x2, inverse=0):\n",
        "  mat = np.matrix([[f1_x1(x1,x2), f1_x2(x1,x2)], [f2_x1(x1,x2), f2_x2(x1,x2)]])\n",
        "  if inverse == 0:\n",
        "    return mat\n",
        "  if inverse == 1:\n",
        "    return inv(mat)"
      ],
      "metadata": {
        "id": "PU9VSqqqo457"
      },
      "execution_count": 251,
      "outputs": []
    },
    {
      "cell_type": "code",
      "source": [
        "# Defining vector-valued function\n",
        "def F(x1, x2):\n",
        "  return np.matrix([[f1(x1,x2)], [f2(x1,x2)]])"
      ],
      "metadata": {
        "id": "p3G6x5nvpVNb"
      },
      "execution_count": 252,
      "outputs": []
    },
    {
      "cell_type": "code",
      "source": [
        "# Defining maximum norm for a 2D vector\n",
        "def norm(x):\n",
        "  return max(abs(x[0,0]), abs(x[1,0]))"
      ],
      "metadata": {
        "id": "SsbVjtp5stck"
      },
      "execution_count": 253,
      "outputs": []
    },
    {
      "cell_type": "code",
      "source": [
        "# Starting iteration\n",
        "k = 1\n",
        "\n",
        "while True:\n",
        "  # Solving n x n linear system for y\n",
        "  y = np.matmul(Jac(x[0,0], x[1,0], inverse=1), -F(x[0,0], x[1,0]))\n",
        "  # Updating x\n",
        "  x = x + y\n",
        "\n",
        "  # When accuracy tolerance is met\n",
        "  if norm(y) < TOL:\n",
        "    print(f'The procedure was successful after {k} iterations.')\n",
        "    break\n",
        "\n",
        "  # Next iteration\n",
        "  k = k + 1\n",
        "\n",
        "  # Appending approximations to array for output\n",
        "  x1k = np.append(x1k, x[0,0])\n",
        "  x2k = np.append(x2k, x[1,0])"
      ],
      "metadata": {
        "colab": {
          "base_uri": "https://localhost:8080/"
        },
        "id": "c7qeZTrjoh60",
        "outputId": "fc264f2d-1cc2-4797-e401-20aece3c45ef"
      },
      "execution_count": 254,
      "outputs": [
        {
          "output_type": "stream",
          "name": "stdout",
          "text": [
            "The procedure was successful after 6 iterations.\n"
          ]
        }
      ]
    },
    {
      "cell_type": "code",
      "source": [
        "df = pd.DataFrame({'x_1^(k)': x1k, 'x_2^(k)': x2k,})\n",
        "df"
      ],
      "metadata": {
        "colab": {
          "base_uri": "https://localhost:8080/",
          "height": 237
        },
        "id": "Ou4y7wmRx8Gc",
        "outputId": "7ea64af8-f7fc-4937-e743-0a5318c051d0"
      },
      "execution_count": 255,
      "outputs": [
        {
          "output_type": "execute_result",
          "data": {
            "text/plain": [
              "     x_1^(k)    x_2^(k)\n",
              "0  2.0000000  2.0000000\n",
              "1  1.9686826  1.4789055\n",
              "2  1.8300800  1.7090238\n",
              "3  1.7755575  1.7684117\n",
              "4  1.7724655  1.7724386\n",
              "5  1.7724539  1.7724539"
            ],
            "text/html": [
              "\n",
              "  <div id=\"df-d36f6c3d-9895-48c8-8267-e2bdf6cc938b\">\n",
              "    <div class=\"colab-df-container\">\n",
              "      <div>\n",
              "<style scoped>\n",
              "    .dataframe tbody tr th:only-of-type {\n",
              "        vertical-align: middle;\n",
              "    }\n",
              "\n",
              "    .dataframe tbody tr th {\n",
              "        vertical-align: top;\n",
              "    }\n",
              "\n",
              "    .dataframe thead th {\n",
              "        text-align: right;\n",
              "    }\n",
              "</style>\n",
              "<table border=\"1\" class=\"dataframe\">\n",
              "  <thead>\n",
              "    <tr style=\"text-align: right;\">\n",
              "      <th></th>\n",
              "      <th>x_1^(k)</th>\n",
              "      <th>x_2^(k)</th>\n",
              "    </tr>\n",
              "  </thead>\n",
              "  <tbody>\n",
              "    <tr>\n",
              "      <th>0</th>\n",
              "      <td>2.0000000</td>\n",
              "      <td>2.0000000</td>\n",
              "    </tr>\n",
              "    <tr>\n",
              "      <th>1</th>\n",
              "      <td>1.9686826</td>\n",
              "      <td>1.4789055</td>\n",
              "    </tr>\n",
              "    <tr>\n",
              "      <th>2</th>\n",
              "      <td>1.8300800</td>\n",
              "      <td>1.7090238</td>\n",
              "    </tr>\n",
              "    <tr>\n",
              "      <th>3</th>\n",
              "      <td>1.7755575</td>\n",
              "      <td>1.7684117</td>\n",
              "    </tr>\n",
              "    <tr>\n",
              "      <th>4</th>\n",
              "      <td>1.7724655</td>\n",
              "      <td>1.7724386</td>\n",
              "    </tr>\n",
              "    <tr>\n",
              "      <th>5</th>\n",
              "      <td>1.7724539</td>\n",
              "      <td>1.7724539</td>\n",
              "    </tr>\n",
              "  </tbody>\n",
              "</table>\n",
              "</div>\n",
              "      <button class=\"colab-df-convert\" onclick=\"convertToInteractive('df-d36f6c3d-9895-48c8-8267-e2bdf6cc938b')\"\n",
              "              title=\"Convert this dataframe to an interactive table.\"\n",
              "              style=\"display:none;\">\n",
              "        \n",
              "  <svg xmlns=\"http://www.w3.org/2000/svg\" height=\"24px\"viewBox=\"0 0 24 24\"\n",
              "       width=\"24px\">\n",
              "    <path d=\"M0 0h24v24H0V0z\" fill=\"none\"/>\n",
              "    <path d=\"M18.56 5.44l.94 2.06.94-2.06 2.06-.94-2.06-.94-.94-2.06-.94 2.06-2.06.94zm-11 1L8.5 8.5l.94-2.06 2.06-.94-2.06-.94L8.5 2.5l-.94 2.06-2.06.94zm10 10l.94 2.06.94-2.06 2.06-.94-2.06-.94-.94-2.06-.94 2.06-2.06.94z\"/><path d=\"M17.41 7.96l-1.37-1.37c-.4-.4-.92-.59-1.43-.59-.52 0-1.04.2-1.43.59L10.3 9.45l-7.72 7.72c-.78.78-.78 2.05 0 2.83L4 21.41c.39.39.9.59 1.41.59.51 0 1.02-.2 1.41-.59l7.78-7.78 2.81-2.81c.8-.78.8-2.07 0-2.86zM5.41 20L4 18.59l7.72-7.72 1.47 1.35L5.41 20z\"/>\n",
              "  </svg>\n",
              "      </button>\n",
              "      \n",
              "  <style>\n",
              "    .colab-df-container {\n",
              "      display:flex;\n",
              "      flex-wrap:wrap;\n",
              "      gap: 12px;\n",
              "    }\n",
              "\n",
              "    .colab-df-convert {\n",
              "      background-color: #E8F0FE;\n",
              "      border: none;\n",
              "      border-radius: 50%;\n",
              "      cursor: pointer;\n",
              "      display: none;\n",
              "      fill: #1967D2;\n",
              "      height: 32px;\n",
              "      padding: 0 0 0 0;\n",
              "      width: 32px;\n",
              "    }\n",
              "\n",
              "    .colab-df-convert:hover {\n",
              "      background-color: #E2EBFA;\n",
              "      box-shadow: 0px 1px 2px rgba(60, 64, 67, 0.3), 0px 1px 3px 1px rgba(60, 64, 67, 0.15);\n",
              "      fill: #174EA6;\n",
              "    }\n",
              "\n",
              "    [theme=dark] .colab-df-convert {\n",
              "      background-color: #3B4455;\n",
              "      fill: #D2E3FC;\n",
              "    }\n",
              "\n",
              "    [theme=dark] .colab-df-convert:hover {\n",
              "      background-color: #434B5C;\n",
              "      box-shadow: 0px 1px 3px 1px rgba(0, 0, 0, 0.15);\n",
              "      filter: drop-shadow(0px 1px 2px rgba(0, 0, 0, 0.3));\n",
              "      fill: #FFFFFF;\n",
              "    }\n",
              "  </style>\n",
              "\n",
              "      <script>\n",
              "        const buttonEl =\n",
              "          document.querySelector('#df-d36f6c3d-9895-48c8-8267-e2bdf6cc938b button.colab-df-convert');\n",
              "        buttonEl.style.display =\n",
              "          google.colab.kernel.accessAllowed ? 'block' : 'none';\n",
              "\n",
              "        async function convertToInteractive(key) {\n",
              "          const element = document.querySelector('#df-d36f6c3d-9895-48c8-8267-e2bdf6cc938b');\n",
              "          const dataTable =\n",
              "            await google.colab.kernel.invokeFunction('convertToInteractive',\n",
              "                                                     [key], {});\n",
              "          if (!dataTable) return;\n",
              "\n",
              "          const docLinkHtml = 'Like what you see? Visit the ' +\n",
              "            '<a target=\"_blank\" href=https://colab.research.google.com/notebooks/data_table.ipynb>data table notebook</a>'\n",
              "            + ' to learn more about interactive tables.';\n",
              "          element.innerHTML = '';\n",
              "          dataTable['output_type'] = 'display_data';\n",
              "          await google.colab.output.renderOutput(dataTable, element);\n",
              "          const docLink = document.createElement('div');\n",
              "          docLink.innerHTML = docLinkHtml;\n",
              "          element.appendChild(docLink);\n",
              "        }\n",
              "      </script>\n",
              "    </div>\n",
              "  </div>\n",
              "  "
            ]
          },
          "metadata": {},
          "execution_count": 255
        }
      ]
    }
  ]
}