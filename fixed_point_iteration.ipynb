{
  "nbformat": 4,
  "nbformat_minor": 0,
  "metadata": {
    "colab": {
      "provenance": [],
      "collapsed_sections": []
    },
    "kernelspec": {
      "name": "python3",
      "display_name": "Python 3"
    },
    "language_info": {
      "name": "python"
    }
  },
  "cells": [
    {
      "cell_type": "markdown",
      "source": [
        "### Fixed Point Iteration\n",
        "\n",
        "This code implements fixed point iteration to find the point $\\mathbf{p}$ of a function $\\mathbf{G}$ such that\n",
        "$$\n",
        "\\mathbf{G}(\\mathbf{p}) = \\mathbf{p}.\n",
        "$$\n",
        "As inputs we have the rows $g_i(x_1, \\ldots, x_n)$ of $\\mathbf{G}$ for $i = 1, \\ldots, n$ and a tolerance `TOL`. This notebook provides the solution to 10.1.5(a) in *Numerical Analysis* (10th Edition) by Burden and Faires."
      ],
      "metadata": {
        "id": "PYvhCk3jgNoQ"
      }
    },
    {
      "cell_type": "code",
      "execution_count": 1,
      "metadata": {
        "id": "tofN8ol2gJi4"
      },
      "outputs": [],
      "source": [
        "# Imports\n",
        "import numpy as np\n",
        "from numpy.linalg import norm\n",
        "import pandas as pd\n",
        "import math\n",
        "\n",
        "# Suppressing scientific notation in output\n",
        "pd.set_option('display.float_format', '{:.7f}'.format)"
      ]
    },
    {
      "cell_type": "code",
      "source": [
        "# Component functions\n",
        "g1 = lambda x1, x2, x3: 1/3*(np.cos(x2*x3) + 0.5)\n",
        "g2 = lambda x1, x2, x3: 1/25*math.sqrt(x1**2 + 0.3125) - 0.03\n",
        "g3 = lambda x1, x2, x3: -1/20*math.exp(-x1*x2) - (10*math.pi - 3)/60\n",
        "\n",
        "# Tolerance\n",
        "TOL = 10**(-5)\n",
        "\n",
        "# Initial guess\n",
        "x = np.matrix([[1], [1], [1]])"
      ],
      "metadata": {
        "id": "dWWAMf0egPoI"
      },
      "execution_count": 2,
      "outputs": []
    },
    {
      "cell_type": "code",
      "source": [
        "# Arrays for approximations for each iteration\n",
        "x1k = np.array(x[0,0])\n",
        "x2k = np.array(x[1,0])\n",
        "x3k = np.array(x[2,0])"
      ],
      "metadata": {
        "id": "Dk48oRvhkWju"
      },
      "execution_count": 3,
      "outputs": []
    },
    {
      "cell_type": "code",
      "source": [
        "# Defining vector-valued function\n",
        "def G(x1, x2, x3):\n",
        "  return np.matrix([[g1(x1,x2,x3)], [g2(x1,x2,x3)], [g3(x1,x2,x3)]])"
      ],
      "metadata": {
        "id": "-1f8AOBUg-AD"
      },
      "execution_count": 4,
      "outputs": []
    },
    {
      "cell_type": "code",
      "source": [
        "# Starting iteration\n",
        "k = 1\n",
        "\n",
        "while True:\n",
        "  \n",
        "  y = G(x[0,0], x[1,0], x[2,0])\n",
        "  \n",
        "  if norm(y-x, ord=np.inf) < TOL:\n",
        "\n",
        "    # Appending approximations to array for output\n",
        "    x1k = np.append(x1k, x[0,0])\n",
        "    x2k = np.append(x2k, x[1,0])\n",
        "    x3k = np.append(x3k, x[2,0])\n",
        "\n",
        "    print(f'Fixed point iteration converged to within tolerance after {k} iterations.')\n",
        "    break\n",
        "    \n",
        "  x = y\n",
        "\n",
        "  # Iteration counter\n",
        "  k += 1\n",
        "\n",
        "  # Appending approximations to array for output\n",
        "  x1k = np.append(x1k, x[0,0])\n",
        "  x2k = np.append(x2k, x[1,0])\n",
        "  x3k = np.append(x3k, x[2,0])"
      ],
      "metadata": {
        "colab": {
          "base_uri": "https://localhost:8080/"
        },
        "id": "6uvqvFV0hNlR",
        "outputId": "32033713-5862-45fd-95f4-e26942c209a4"
      },
      "execution_count": 5,
      "outputs": [
        {
          "output_type": "stream",
          "name": "stdout",
          "text": [
            "Fixed point iteration converged to within tolerance after 5 iterations.\n"
          ]
        }
      ]
    },
    {
      "cell_type": "code",
      "source": [
        "# Output\n",
        "df = pd.DataFrame({'x_1^(k)': x1k, 'x_2^(k)': x2k, 'x_3^(k)': x3k})\n",
        "df"
      ],
      "metadata": {
        "colab": {
          "base_uri": "https://localhost:8080/",
          "height": 237
        },
        "id": "QkE6EqQ7isjB",
        "outputId": "84f960d4-73f8-482a-fc68-b97f6551f548"
      },
      "execution_count": 6,
      "outputs": [
        {
          "output_type": "execute_result",
          "data": {
            "text/plain": [
              "    x_1^(k)    x_2^(k)    x_3^(k)\n",
              "0 1.0000000  1.0000000  1.0000000\n",
              "1 0.3467674  0.0158258 -0.4919927\n",
              "2 0.4999899 -0.0036866 -0.5233251\n",
              "3 0.4999994 -0.0000003 -0.5236910\n",
              "4 0.5000000 -0.0000000 -0.5235988\n",
              "5 0.5000000 -0.0000000 -0.5235988"
            ],
            "text/html": [
              "\n",
              "  <div id=\"df-939b8d5f-b0dd-4708-a2b4-4ebf3bf5e7cc\">\n",
              "    <div class=\"colab-df-container\">\n",
              "      <div>\n",
              "<style scoped>\n",
              "    .dataframe tbody tr th:only-of-type {\n",
              "        vertical-align: middle;\n",
              "    }\n",
              "\n",
              "    .dataframe tbody tr th {\n",
              "        vertical-align: top;\n",
              "    }\n",
              "\n",
              "    .dataframe thead th {\n",
              "        text-align: right;\n",
              "    }\n",
              "</style>\n",
              "<table border=\"1\" class=\"dataframe\">\n",
              "  <thead>\n",
              "    <tr style=\"text-align: right;\">\n",
              "      <th></th>\n",
              "      <th>x_1^(k)</th>\n",
              "      <th>x_2^(k)</th>\n",
              "      <th>x_3^(k)</th>\n",
              "    </tr>\n",
              "  </thead>\n",
              "  <tbody>\n",
              "    <tr>\n",
              "      <th>0</th>\n",
              "      <td>1.0000000</td>\n",
              "      <td>1.0000000</td>\n",
              "      <td>1.0000000</td>\n",
              "    </tr>\n",
              "    <tr>\n",
              "      <th>1</th>\n",
              "      <td>0.3467674</td>\n",
              "      <td>0.0158258</td>\n",
              "      <td>-0.4919927</td>\n",
              "    </tr>\n",
              "    <tr>\n",
              "      <th>2</th>\n",
              "      <td>0.4999899</td>\n",
              "      <td>-0.0036866</td>\n",
              "      <td>-0.5233251</td>\n",
              "    </tr>\n",
              "    <tr>\n",
              "      <th>3</th>\n",
              "      <td>0.4999994</td>\n",
              "      <td>-0.0000003</td>\n",
              "      <td>-0.5236910</td>\n",
              "    </tr>\n",
              "    <tr>\n",
              "      <th>4</th>\n",
              "      <td>0.5000000</td>\n",
              "      <td>-0.0000000</td>\n",
              "      <td>-0.5235988</td>\n",
              "    </tr>\n",
              "    <tr>\n",
              "      <th>5</th>\n",
              "      <td>0.5000000</td>\n",
              "      <td>-0.0000000</td>\n",
              "      <td>-0.5235988</td>\n",
              "    </tr>\n",
              "  </tbody>\n",
              "</table>\n",
              "</div>\n",
              "      <button class=\"colab-df-convert\" onclick=\"convertToInteractive('df-939b8d5f-b0dd-4708-a2b4-4ebf3bf5e7cc')\"\n",
              "              title=\"Convert this dataframe to an interactive table.\"\n",
              "              style=\"display:none;\">\n",
              "        \n",
              "  <svg xmlns=\"http://www.w3.org/2000/svg\" height=\"24px\"viewBox=\"0 0 24 24\"\n",
              "       width=\"24px\">\n",
              "    <path d=\"M0 0h24v24H0V0z\" fill=\"none\"/>\n",
              "    <path d=\"M18.56 5.44l.94 2.06.94-2.06 2.06-.94-2.06-.94-.94-2.06-.94 2.06-2.06.94zm-11 1L8.5 8.5l.94-2.06 2.06-.94-2.06-.94L8.5 2.5l-.94 2.06-2.06.94zm10 10l.94 2.06.94-2.06 2.06-.94-2.06-.94-.94-2.06-.94 2.06-2.06.94z\"/><path d=\"M17.41 7.96l-1.37-1.37c-.4-.4-.92-.59-1.43-.59-.52 0-1.04.2-1.43.59L10.3 9.45l-7.72 7.72c-.78.78-.78 2.05 0 2.83L4 21.41c.39.39.9.59 1.41.59.51 0 1.02-.2 1.41-.59l7.78-7.78 2.81-2.81c.8-.78.8-2.07 0-2.86zM5.41 20L4 18.59l7.72-7.72 1.47 1.35L5.41 20z\"/>\n",
              "  </svg>\n",
              "      </button>\n",
              "      \n",
              "  <style>\n",
              "    .colab-df-container {\n",
              "      display:flex;\n",
              "      flex-wrap:wrap;\n",
              "      gap: 12px;\n",
              "    }\n",
              "\n",
              "    .colab-df-convert {\n",
              "      background-color: #E8F0FE;\n",
              "      border: none;\n",
              "      border-radius: 50%;\n",
              "      cursor: pointer;\n",
              "      display: none;\n",
              "      fill: #1967D2;\n",
              "      height: 32px;\n",
              "      padding: 0 0 0 0;\n",
              "      width: 32px;\n",
              "    }\n",
              "\n",
              "    .colab-df-convert:hover {\n",
              "      background-color: #E2EBFA;\n",
              "      box-shadow: 0px 1px 2px rgba(60, 64, 67, 0.3), 0px 1px 3px 1px rgba(60, 64, 67, 0.15);\n",
              "      fill: #174EA6;\n",
              "    }\n",
              "\n",
              "    [theme=dark] .colab-df-convert {\n",
              "      background-color: #3B4455;\n",
              "      fill: #D2E3FC;\n",
              "    }\n",
              "\n",
              "    [theme=dark] .colab-df-convert:hover {\n",
              "      background-color: #434B5C;\n",
              "      box-shadow: 0px 1px 3px 1px rgba(0, 0, 0, 0.15);\n",
              "      filter: drop-shadow(0px 1px 2px rgba(0, 0, 0, 0.3));\n",
              "      fill: #FFFFFF;\n",
              "    }\n",
              "  </style>\n",
              "\n",
              "      <script>\n",
              "        const buttonEl =\n",
              "          document.querySelector('#df-939b8d5f-b0dd-4708-a2b4-4ebf3bf5e7cc button.colab-df-convert');\n",
              "        buttonEl.style.display =\n",
              "          google.colab.kernel.accessAllowed ? 'block' : 'none';\n",
              "\n",
              "        async function convertToInteractive(key) {\n",
              "          const element = document.querySelector('#df-939b8d5f-b0dd-4708-a2b4-4ebf3bf5e7cc');\n",
              "          const dataTable =\n",
              "            await google.colab.kernel.invokeFunction('convertToInteractive',\n",
              "                                                     [key], {});\n",
              "          if (!dataTable) return;\n",
              "\n",
              "          const docLinkHtml = 'Like what you see? Visit the ' +\n",
              "            '<a target=\"_blank\" href=https://colab.research.google.com/notebooks/data_table.ipynb>data table notebook</a>'\n",
              "            + ' to learn more about interactive tables.';\n",
              "          element.innerHTML = '';\n",
              "          dataTable['output_type'] = 'display_data';\n",
              "          await google.colab.output.renderOutput(dataTable, element);\n",
              "          const docLink = document.createElement('div');\n",
              "          docLink.innerHTML = docLinkHtml;\n",
              "          element.appendChild(docLink);\n",
              "        }\n",
              "      </script>\n",
              "    </div>\n",
              "  </div>\n",
              "  "
            ]
          },
          "metadata": {},
          "execution_count": 6
        }
      ]
    }
  ]
}