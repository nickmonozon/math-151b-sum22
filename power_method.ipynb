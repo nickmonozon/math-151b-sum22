{
  "nbformat": 4,
  "nbformat_minor": 0,
  "metadata": {
    "colab": {
      "provenance": [],
      "collapsed_sections": []
    },
    "kernelspec": {
      "name": "python3",
      "display_name": "Python 3"
    },
    "language_info": {
      "name": "python"
    }
  },
  "cells": [
    {
      "cell_type": "markdown",
      "source": [
        "### Power Method\n",
        "This code implements the Power Method for a specified number of maximum iterations `N` to determine the dominant eigenvalue and its associated eigenvector of an $n \\times n$ matrix `A`. This code is implemented according to Algorithm 9.1 of *Numerical Analysis* (10th Edition) by Burden and Faires.\n",
        "\n",
        "*Note*: We supply an initial \"guess\" vector `x`."
      ],
      "metadata": {
        "id": "4jBzZVdw9uOp"
      }
    },
    {
      "cell_type": "code",
      "execution_count": 8,
      "metadata": {
        "id": "wNQ8s1M38aDT"
      },
      "outputs": [],
      "source": [
        "# Imports\n",
        "import numpy as np\n",
        "from numpy.linalg import *\n",
        "import pandas as pd\n",
        "import math\n",
        "\n",
        "# For more decimal places\n",
        "pd.set_option(\"display.precision\", 7)"
      ]
    },
    {
      "cell_type": "code",
      "source": [
        "# Matrix \n",
        "A = np.array([[4, 2, 1],\n",
        "              [0, 3, 2],\n",
        "              [1, 1, 4]])\n",
        "\n",
        "# Initial vector\n",
        "x = np.array([1, 2, 1])\n",
        "\n",
        "# Maximum number of iterations\n",
        "N = 3\n",
        "\n",
        "# Tolerance\n",
        "TOL = 10**(-6)"
      ],
      "metadata": {
        "id": "WibJ10WY8mjZ"
      },
      "execution_count": 9,
      "outputs": []
    },
    {
      "cell_type": "code",
      "source": [
        "# Step 1\n",
        "k = 1\n",
        "\n",
        "# Step 2\n",
        "p = np.argmax(x == norm(x, ord=np.inf))\n",
        "\n",
        "# Step 3\n",
        "x = x/x[p]\n",
        "\n",
        "# Step 4\n",
        "while k <= N:\n",
        "\n",
        "  # Step 5\n",
        "  y = np.dot(A, x)\n",
        "\n",
        "  # Step 6\n",
        "  mu = y[p]\n",
        "\n",
        "  # Step 7\n",
        "  p = np.argmax(y == norm(y, ord=np.inf))\n",
        "\n",
        "  # Step 8\n",
        "  if y[p] == 0:\n",
        "    print('A has eigenvalue 0. Select a new vector x and restart.')\n",
        "    break\n",
        "\n",
        "  # Step 9\n",
        "  ERR = norm(x - y/y[p], ord=np.inf)\n",
        "  x = y/y[p]\n",
        "\n",
        "  # Step 10\n",
        "  if ERR < TOL:\n",
        "    print('The procedure was successful.')\n",
        "    break\n",
        "\n",
        "  # Step 11\n",
        "  k += 1"
      ],
      "metadata": {
        "id": "B3HUC7AU-RNp"
      },
      "execution_count": 10,
      "outputs": []
    },
    {
      "cell_type": "code",
      "source": [
        "print(f'Eigenvalue : {round(mu, 7)}')\n",
        "print(f'Eigenvector: {x}')"
      ],
      "metadata": {
        "colab": {
          "base_uri": "https://localhost:8080/"
        },
        "id": "OsqH0U3QBhQh",
        "outputId": "deb71a7b-7f51-456c-cc65-3978b901d95d"
      },
      "execution_count": 12,
      "outputs": [
        {
          "output_type": "stream",
          "name": "stdout",
          "text": [
            "Eigenvalue : 6.0508475\n",
            "Eigenvector: [1.         0.57142857 0.77591036]\n"
          ]
        }
      ]
    }
  ]
}