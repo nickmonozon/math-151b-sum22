{
  "nbformat": 4,
  "nbformat_minor": 0,
  "metadata": {
    "colab": {
      "provenance": [],
      "collapsed_sections": []
    },
    "kernelspec": {
      "name": "python3",
      "display_name": "Python 3"
    },
    "language_info": {
      "name": "python"
    }
  },
  "cells": [
    {
      "cell_type": "markdown",
      "source": [
        "### Method of Steepest Descent\n",
        "This code implements the method of steepest descent to approximation a solution $\\mathbf{p}$ to the minimization problem\n",
        "$$\n",
        "g(\\mathbf{p}) = \\min_{\\mathbf{x} \\in \\mathbb{R}^n} g(\\mathbf{x})\n",
        "$$\n",
        "where $\\mathbf{x} = (x_1, x_2)^{\\top}$ for some $x_1, x_2 \\in \\mathbb{R}$. This is implemented according to Algorithm 10.3 of *Numerical Analysis* (10th Edition) by Burden and Faires. This notebook provides the solution to 10.4.1(b) in the same book."
      ],
      "metadata": {
        "id": "yhI9pIgSz4fk"
      }
    },
    {
      "cell_type": "code",
      "execution_count": 251,
      "metadata": {
        "id": "fr4zf9_TzszH"
      },
      "outputs": [],
      "source": [
        "# Imports\n",
        "import numpy as np\n",
        "from numpy.linalg import inv, norm\n",
        "import pandas as pd\n",
        "import math\n",
        "\n",
        "# For more decimal places\n",
        "pd.set_option(\"display.precision\", 7)"
      ]
    },
    {
      "cell_type": "code",
      "source": [
        "# Initial guess\n",
        "x = np.matrix([[1], [1]])\n",
        "# Tolerance\n",
        "TOL = 0.05"
      ],
      "metadata": {
        "id": "g56g64Tq5Yj0"
      },
      "execution_count": 252,
      "outputs": []
    },
    {
      "cell_type": "code",
      "source": [
        "# Equations in system\n",
        "f1 = lambda x1, x2: 3*x1**2 - x2**2\n",
        "f2 = lambda x1, x2: 3*x1*x2**2 - x1**3 - 1\n",
        "\n",
        "# Combining into g\n",
        "g = lambda x1, x2: f1(x1,x2)**2 + f2(x1,x2)**2\n",
        "\n",
        "# Arrays for approximations for each iteration\n",
        "x1k = np.array(x[0,0])\n",
        "x2k = np.array(x[1,0])\n",
        "g_vals = np.array(g(x[0,0], x[1,0]))"
      ],
      "metadata": {
        "id": "NG1HHmvC2RLk"
      },
      "execution_count": 253,
      "outputs": []
    },
    {
      "cell_type": "code",
      "source": [
        "# Partial derivatives (for Jacobian)\n",
        "f1_x1 = lambda x1, x2: 6*x1\n",
        "f1_x2 = lambda x1, x2: -2*x2\n",
        "f2_x1 = lambda x1, x2: 3*x2**2 - 3*x1**2\n",
        "f2_x2 = lambda x1, x2: 6*x1*x2"
      ],
      "metadata": {
        "id": "1YW47L5d8YPs"
      },
      "execution_count": 254,
      "outputs": []
    },
    {
      "cell_type": "code",
      "source": [
        "# Defining Jacobian\n",
        "def Jac(x1, x2, transpose=0):\n",
        "  mat = np.matrix([[f1_x1(x1,x2), f1_x2(x1,x2)], [f2_x1(x1,x2), f2_x2(x1,x2)]])\n",
        "  if transpose == 0:\n",
        "    return mat\n",
        "  if transpose == 1:\n",
        "    return mat.T"
      ],
      "metadata": {
        "id": "bUedDqLT8ZO7"
      },
      "execution_count": 255,
      "outputs": []
    },
    {
      "cell_type": "code",
      "source": [
        "# Defining vector-valued function\n",
        "def F(x1, x2):\n",
        "  return np.matrix([[f1(x1,x2)], [f2(x1,x2)]])"
      ],
      "metadata": {
        "id": "60cvjqRa9QBL"
      },
      "execution_count": 256,
      "outputs": []
    },
    {
      "cell_type": "code",
      "source": [
        "# Step 1 \n",
        "k = 1\n",
        "\n",
        "# Step 2\n",
        "while True:\n",
        "\n",
        "  # Step 3\n",
        "  g1 = g(x[0,0], x[1,0])\n",
        "  z = 2*np.dot(Jac(x[0,0], x[1,0], transpose=1), F(x[0,0], x[1,0]))\n",
        "  z0 = norm(z)\n",
        "\n",
        "  # Step 4\n",
        "  if z0 == 0:\n",
        "    print('Zero gradient.')\n",
        "    break\n",
        "  \n",
        "  # Step 5\n",
        "  z = z/z0\n",
        "  alpha1 = 0\n",
        "  alpha3 = 1\n",
        "  g3 = g(x[0,0] - alpha3*z[0,0], x[1,0] - alpha3*z[1,0])\n",
        "\n",
        "  # Step 6\n",
        "  while g3 >= g1:\n",
        "\n",
        "    # Step 7\n",
        "    alpha3 = alpha3/2\n",
        "    g3 = g(x[0,0] - alpha3*z[0,0], x[1,0] - alpha3*z[1,0])\n",
        "\n",
        "    # Step 8\n",
        "    if (alpha3 < TOL/2):\n",
        "      print('No likely improvement.')\n",
        "      break\n",
        "\n",
        "  # Step 9\n",
        "  alpha2 = alpha3/2\n",
        "  g2 = g(x[0,0] - alpha2*z[0,0], x[1,0]-alpha2*z[1,0])\n",
        "\n",
        "  # Step 10\n",
        "  h1 = (g2-g1)/alpha2\n",
        "  h2 = (g3-g2)/(alpha3-alpha2)\n",
        "  h3 = (h2-h1)/alpha3\n",
        "\n",
        "  # Step 11\n",
        "  alpha0 = 1/2*(alpha2 - h1/h3)\n",
        "  g0 = g(x[0,0]-alpha0*z[0,0], x[1,0]-alpha0*z[1,0])\n",
        "\n",
        "  # Step 12\n",
        "  if (g0 <= g3):\n",
        "    g_min = g0\n",
        "    alpha = alpha0\n",
        "  else:\n",
        "    g_min = g3\n",
        "    alpha = alpha3\n",
        "  \n",
        "  # Step 13\n",
        "  x = x - alpha*z\n",
        "\n",
        "  # Step 14\n",
        "  if (abs(g_min - g1) < TOL):\n",
        "\n",
        "    print(f'The procedure was successful after {k} iterations.')\n",
        "    x1k = np.append(x1k, x[0,0])\n",
        "    x2k = np.append(x2k, x[1,0])\n",
        "    g_vals = np.append(g_vals, g_min)\n",
        "\n",
        "    break\n",
        "\n",
        "  # Step 15 (iteration)\n",
        "  k = k + 1\n",
        "\n",
        "  # Appending approximations to array for output\n",
        "  x1k = np.append(x1k, x[0,0])\n",
        "  x2k = np.append(x2k, x[1,0])\n",
        "  g_vals = np.append(g_vals, g_min)"
      ],
      "metadata": {
        "colab": {
          "base_uri": "https://localhost:8080/"
        },
        "id": "i_FING-_0DNc",
        "outputId": "07f05bfd-4b56-4fcd-f385-4a55757fbde8"
      },
      "execution_count": 257,
      "outputs": [
        {
          "output_type": "stream",
          "name": "stdout",
          "text": [
            "No likely improvement.\n",
            "The procedure was successful after 3 iterations.\n"
          ]
        }
      ]
    },
    {
      "cell_type": "code",
      "source": [
        "# Output\n",
        "df = pd.DataFrame({'x_1^(k)': x1k, 'x_2^(k)': x2k, 'g(x_1^(k), x_2^(k))': g_vals})\n",
        "df"
      ],
      "metadata": {
        "colab": {
          "base_uri": "https://localhost:8080/",
          "height": 174
        },
        "id": "yd04o5rK-vO0",
        "outputId": "c9dc0896-4277-44b8-f599-54dab9ad07a8"
      },
      "execution_count": 258,
      "outputs": [
        {
          "output_type": "execute_result",
          "data": {
            "text/plain": [
              "     x_1^(k)    x_2^(k)  g(x_1^(k), x_2^(k))\n",
              "0  1.0000000  1.0000000            5.0000000\n",
              "1  0.3687279  0.8947880            0.1813149\n",
              "2  0.5024076  0.8526487            0.0018779\n",
              "3  0.4980017  0.8649830            0.0000499"
            ],
            "text/html": [
              "\n",
              "  <div id=\"df-cfdbbf5f-97fe-4445-aae9-7a1c5db3618b\">\n",
              "    <div class=\"colab-df-container\">\n",
              "      <div>\n",
              "<style scoped>\n",
              "    .dataframe tbody tr th:only-of-type {\n",
              "        vertical-align: middle;\n",
              "    }\n",
              "\n",
              "    .dataframe tbody tr th {\n",
              "        vertical-align: top;\n",
              "    }\n",
              "\n",
              "    .dataframe thead th {\n",
              "        text-align: right;\n",
              "    }\n",
              "</style>\n",
              "<table border=\"1\" class=\"dataframe\">\n",
              "  <thead>\n",
              "    <tr style=\"text-align: right;\">\n",
              "      <th></th>\n",
              "      <th>x_1^(k)</th>\n",
              "      <th>x_2^(k)</th>\n",
              "      <th>g(x_1^(k), x_2^(k))</th>\n",
              "    </tr>\n",
              "  </thead>\n",
              "  <tbody>\n",
              "    <tr>\n",
              "      <th>0</th>\n",
              "      <td>1.0000000</td>\n",
              "      <td>1.0000000</td>\n",
              "      <td>5.0000000</td>\n",
              "    </tr>\n",
              "    <tr>\n",
              "      <th>1</th>\n",
              "      <td>0.3687279</td>\n",
              "      <td>0.8947880</td>\n",
              "      <td>0.1813149</td>\n",
              "    </tr>\n",
              "    <tr>\n",
              "      <th>2</th>\n",
              "      <td>0.5024076</td>\n",
              "      <td>0.8526487</td>\n",
              "      <td>0.0018779</td>\n",
              "    </tr>\n",
              "    <tr>\n",
              "      <th>3</th>\n",
              "      <td>0.4980017</td>\n",
              "      <td>0.8649830</td>\n",
              "      <td>0.0000499</td>\n",
              "    </tr>\n",
              "  </tbody>\n",
              "</table>\n",
              "</div>\n",
              "      <button class=\"colab-df-convert\" onclick=\"convertToInteractive('df-cfdbbf5f-97fe-4445-aae9-7a1c5db3618b')\"\n",
              "              title=\"Convert this dataframe to an interactive table.\"\n",
              "              style=\"display:none;\">\n",
              "        \n",
              "  <svg xmlns=\"http://www.w3.org/2000/svg\" height=\"24px\"viewBox=\"0 0 24 24\"\n",
              "       width=\"24px\">\n",
              "    <path d=\"M0 0h24v24H0V0z\" fill=\"none\"/>\n",
              "    <path d=\"M18.56 5.44l.94 2.06.94-2.06 2.06-.94-2.06-.94-.94-2.06-.94 2.06-2.06.94zm-11 1L8.5 8.5l.94-2.06 2.06-.94-2.06-.94L8.5 2.5l-.94 2.06-2.06.94zm10 10l.94 2.06.94-2.06 2.06-.94-2.06-.94-.94-2.06-.94 2.06-2.06.94z\"/><path d=\"M17.41 7.96l-1.37-1.37c-.4-.4-.92-.59-1.43-.59-.52 0-1.04.2-1.43.59L10.3 9.45l-7.72 7.72c-.78.78-.78 2.05 0 2.83L4 21.41c.39.39.9.59 1.41.59.51 0 1.02-.2 1.41-.59l7.78-7.78 2.81-2.81c.8-.78.8-2.07 0-2.86zM5.41 20L4 18.59l7.72-7.72 1.47 1.35L5.41 20z\"/>\n",
              "  </svg>\n",
              "      </button>\n",
              "      \n",
              "  <style>\n",
              "    .colab-df-container {\n",
              "      display:flex;\n",
              "      flex-wrap:wrap;\n",
              "      gap: 12px;\n",
              "    }\n",
              "\n",
              "    .colab-df-convert {\n",
              "      background-color: #E8F0FE;\n",
              "      border: none;\n",
              "      border-radius: 50%;\n",
              "      cursor: pointer;\n",
              "      display: none;\n",
              "      fill: #1967D2;\n",
              "      height: 32px;\n",
              "      padding: 0 0 0 0;\n",
              "      width: 32px;\n",
              "    }\n",
              "\n",
              "    .colab-df-convert:hover {\n",
              "      background-color: #E2EBFA;\n",
              "      box-shadow: 0px 1px 2px rgba(60, 64, 67, 0.3), 0px 1px 3px 1px rgba(60, 64, 67, 0.15);\n",
              "      fill: #174EA6;\n",
              "    }\n",
              "\n",
              "    [theme=dark] .colab-df-convert {\n",
              "      background-color: #3B4455;\n",
              "      fill: #D2E3FC;\n",
              "    }\n",
              "\n",
              "    [theme=dark] .colab-df-convert:hover {\n",
              "      background-color: #434B5C;\n",
              "      box-shadow: 0px 1px 3px 1px rgba(0, 0, 0, 0.15);\n",
              "      filter: drop-shadow(0px 1px 2px rgba(0, 0, 0, 0.3));\n",
              "      fill: #FFFFFF;\n",
              "    }\n",
              "  </style>\n",
              "\n",
              "      <script>\n",
              "        const buttonEl =\n",
              "          document.querySelector('#df-cfdbbf5f-97fe-4445-aae9-7a1c5db3618b button.colab-df-convert');\n",
              "        buttonEl.style.display =\n",
              "          google.colab.kernel.accessAllowed ? 'block' : 'none';\n",
              "\n",
              "        async function convertToInteractive(key) {\n",
              "          const element = document.querySelector('#df-cfdbbf5f-97fe-4445-aae9-7a1c5db3618b');\n",
              "          const dataTable =\n",
              "            await google.colab.kernel.invokeFunction('convertToInteractive',\n",
              "                                                     [key], {});\n",
              "          if (!dataTable) return;\n",
              "\n",
              "          const docLinkHtml = 'Like what you see? Visit the ' +\n",
              "            '<a target=\"_blank\" href=https://colab.research.google.com/notebooks/data_table.ipynb>data table notebook</a>'\n",
              "            + ' to learn more about interactive tables.';\n",
              "          element.innerHTML = '';\n",
              "          dataTable['output_type'] = 'display_data';\n",
              "          await google.colab.output.renderOutput(dataTable, element);\n",
              "          const docLink = document.createElement('div');\n",
              "          docLink.innerHTML = docLinkHtml;\n",
              "          element.appendChild(docLink);\n",
              "        }\n",
              "      </script>\n",
              "    </div>\n",
              "  </div>\n",
              "  "
            ]
          },
          "metadata": {},
          "execution_count": 258
        }
      ]
    }
  ]
}